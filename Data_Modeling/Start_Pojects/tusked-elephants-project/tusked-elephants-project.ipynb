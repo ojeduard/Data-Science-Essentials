{
 "cells": [
  {
   "cell_type": "markdown",
   "metadata": {},
   "source": [
    "# Tusked Elephants\n",
    "\n",
    "[Project extensions are at the bottom of this file]\n",
    "\n",
    "The illegal ivory trade in the 1970s and 80s was so severe that some elephant populations declined by 50-90%, with poachers targeting animals with the largest tusks. Safeguard measures implemented in 1990 led to a period of population recovery. What impact did the poaching period have on the genetic trait for tusk size?\n",
    "\n",
    "In this project you will analyze tusk size data for elephants born before the poaching period compared to elephants born after the recovery period began.\n",
    "\n",
    "### Loading the Data\n",
    "\n",
    "The file `male-elephant-tusk-size.csv` contains information about young male elephants from regions of East Africa: one cohort observed 1966-1968 (born before the poaching period) and a second cohort observed 2005-2013 (born after population recovery began).\n",
    "\n",
    "Load the data and take a look.\n",
    "\n",
    "Activity Goals:\n",
    "- Load the tusk data.\n",
    "- Display the dataframe."
   ]
  },
  {
   "cell_type": "code",
   "execution_count": 65,
   "metadata": {},
   "outputs": [],
   "source": [
    "# FOR GOOGLE COLAB ONLY.\n",
    "# Uncomment and run the code below. A dialog will appear to upload files.\n",
    "# Upload 'male-elephant-tusk-size.csv'.\n",
    "\n",
    "# from google.colab import files\n",
    "# uploaded = files.upload()"
   ]
  },
  {
   "cell_type": "code",
   "execution_count": 1,
   "metadata": {},
   "outputs": [
    {
     "data": {
      "text/html": [
       "<div>\n",
       "<style scoped>\n",
       "    .dataframe tbody tr th:only-of-type {\n",
       "        vertical-align: middle;\n",
       "    }\n",
       "\n",
       "    .dataframe tbody tr th {\n",
       "        vertical-align: top;\n",
       "    }\n",
       "\n",
       "    .dataframe thead th {\n",
       "        text-align: right;\n",
       "    }\n",
       "</style>\n",
       "<table border=\"1\" class=\"dataframe\">\n",
       "  <thead>\n",
       "    <tr style=\"text-align: right;\">\n",
       "      <th></th>\n",
       "      <th>period</th>\n",
       "      <th>elephant_id</th>\n",
       "      <th>age</th>\n",
       "      <th>shoulder_height</th>\n",
       "      <th>tusk_length</th>\n",
       "    </tr>\n",
       "  </thead>\n",
       "  <tbody>\n",
       "    <tr>\n",
       "      <th>0</th>\n",
       "      <td>1966-68</td>\n",
       "      <td>58</td>\n",
       "      <td>2.5</td>\n",
       "      <td>149.0</td>\n",
       "      <td>30.0</td>\n",
       "    </tr>\n",
       "    <tr>\n",
       "      <th>1</th>\n",
       "      <td>1966-68</td>\n",
       "      <td>78</td>\n",
       "      <td>2.5</td>\n",
       "      <td>151.0</td>\n",
       "      <td>27.0</td>\n",
       "    </tr>\n",
       "    <tr>\n",
       "      <th>2</th>\n",
       "      <td>1966-68</td>\n",
       "      <td>86</td>\n",
       "      <td>2.5</td>\n",
       "      <td>127.0</td>\n",
       "      <td>27.0</td>\n",
       "    </tr>\n",
       "    <tr>\n",
       "      <th>3</th>\n",
       "      <td>1966-68</td>\n",
       "      <td>293</td>\n",
       "      <td>2.5</td>\n",
       "      <td>156.0</td>\n",
       "      <td>32.0</td>\n",
       "    </tr>\n",
       "    <tr>\n",
       "      <th>4</th>\n",
       "      <td>1966-68</td>\n",
       "      <td>29</td>\n",
       "      <td>3.0</td>\n",
       "      <td>146.0</td>\n",
       "      <td>28.5</td>\n",
       "    </tr>\n",
       "    <tr>\n",
       "      <th>...</th>\n",
       "      <td>...</td>\n",
       "      <td>...</td>\n",
       "      <td>...</td>\n",
       "      <td>...</td>\n",
       "      <td>...</td>\n",
       "    </tr>\n",
       "    <tr>\n",
       "      <th>294</th>\n",
       "      <td>2005-13</td>\n",
       "      <td>78</td>\n",
       "      <td>7.5</td>\n",
       "      <td>220.0</td>\n",
       "      <td>84.7</td>\n",
       "    </tr>\n",
       "    <tr>\n",
       "      <th>295</th>\n",
       "      <td>2005-13</td>\n",
       "      <td>144</td>\n",
       "      <td>7.5</td>\n",
       "      <td>220.0</td>\n",
       "      <td>58.9</td>\n",
       "    </tr>\n",
       "    <tr>\n",
       "      <th>296</th>\n",
       "      <td>2005-13</td>\n",
       "      <td>1</td>\n",
       "      <td>9.0</td>\n",
       "      <td>220.0</td>\n",
       "      <td>99.0</td>\n",
       "    </tr>\n",
       "    <tr>\n",
       "      <th>297</th>\n",
       "      <td>2005-13</td>\n",
       "      <td>48</td>\n",
       "      <td>9.0</td>\n",
       "      <td>230.0</td>\n",
       "      <td>105.4</td>\n",
       "    </tr>\n",
       "    <tr>\n",
       "      <th>298</th>\n",
       "      <td>2005-13</td>\n",
       "      <td>105</td>\n",
       "      <td>9.0</td>\n",
       "      <td>210.0</td>\n",
       "      <td>79.6</td>\n",
       "    </tr>\n",
       "  </tbody>\n",
       "</table>\n",
       "<p>299 rows × 5 columns</p>\n",
       "</div>"
      ],
      "text/plain": [
       "      period  elephant_id  age  shoulder_height  tusk_length\n",
       "0    1966-68           58  2.5            149.0         30.0\n",
       "1    1966-68           78  2.5            151.0         27.0\n",
       "2    1966-68           86  2.5            127.0         27.0\n",
       "3    1966-68          293  2.5            156.0         32.0\n",
       "4    1966-68           29  3.0            146.0         28.5\n",
       "..       ...          ...  ...              ...          ...\n",
       "294  2005-13           78  7.5            220.0         84.7\n",
       "295  2005-13          144  7.5            220.0         58.9\n",
       "296  2005-13            1  9.0            220.0         99.0\n",
       "297  2005-13           48  9.0            230.0        105.4\n",
       "298  2005-13          105  9.0            210.0         79.6\n",
       "\n",
       "[299 rows x 5 columns]"
      ]
     },
     "execution_count": 1,
     "metadata": {},
     "output_type": "execute_result"
    }
   ],
   "source": [
    "import pandas as pd\n",
    "import matplotlib.pyplot as plt\n",
    "df = pd.read_csv('male-elephant-tusk-size.csv')\n",
    "df #display the dataframe"
   ]
  },
  {
   "cell_type": "markdown",
   "metadata": {},
   "source": [
    "Note that the `shoulder_height` column is measured in centimeters, as is `tusk_length`.\n",
    "Let's explore whether tusk length changed across the two time periods.\n",
    "\n",
    "### Comparing Tusk Length\n",
    "\n",
    "To help us compare, let's split the data into two dataframes based on the time period. We will use a simple `query()`.\n",
    "\n",
    "Activity Goals:\n",
    "- Create a `pre_poaching` dataframe.\n",
    "- Display the first 3 rows."
   ]
  },
  {
   "cell_type": "code",
   "execution_count": 2,
   "metadata": {},
   "outputs": [
    {
     "data": {
      "text/html": [
       "<div>\n",
       "<style scoped>\n",
       "    .dataframe tbody tr th:only-of-type {\n",
       "        vertical-align: middle;\n",
       "    }\n",
       "\n",
       "    .dataframe tbody tr th {\n",
       "        vertical-align: top;\n",
       "    }\n",
       "\n",
       "    .dataframe thead th {\n",
       "        text-align: right;\n",
       "    }\n",
       "</style>\n",
       "<table border=\"1\" class=\"dataframe\">\n",
       "  <thead>\n",
       "    <tr style=\"text-align: right;\">\n",
       "      <th></th>\n",
       "      <th>period</th>\n",
       "      <th>elephant_id</th>\n",
       "      <th>age</th>\n",
       "      <th>shoulder_height</th>\n",
       "      <th>tusk_length</th>\n",
       "    </tr>\n",
       "  </thead>\n",
       "  <tbody>\n",
       "    <tr>\n",
       "      <th>0</th>\n",
       "      <td>1966-68</td>\n",
       "      <td>58</td>\n",
       "      <td>2.5</td>\n",
       "      <td>149.0</td>\n",
       "      <td>30.0</td>\n",
       "    </tr>\n",
       "    <tr>\n",
       "      <th>1</th>\n",
       "      <td>1966-68</td>\n",
       "      <td>78</td>\n",
       "      <td>2.5</td>\n",
       "      <td>151.0</td>\n",
       "      <td>27.0</td>\n",
       "    </tr>\n",
       "    <tr>\n",
       "      <th>2</th>\n",
       "      <td>1966-68</td>\n",
       "      <td>86</td>\n",
       "      <td>2.5</td>\n",
       "      <td>127.0</td>\n",
       "      <td>27.0</td>\n",
       "    </tr>\n",
       "  </tbody>\n",
       "</table>\n",
       "</div>"
      ],
      "text/plain": [
       "    period  elephant_id  age  shoulder_height  tusk_length\n",
       "0  1966-68           58  2.5            149.0         30.0\n",
       "1  1966-68           78  2.5            151.0         27.0\n",
       "2  1966-68           86  2.5            127.0         27.0"
      ]
     },
     "execution_count": 2,
     "metadata": {},
     "output_type": "execute_result"
    }
   ],
   "source": [
    "pre_poaching = df.query('period == \"1966-68\"')\n",
    "pre_poaching.head(3)"
   ]
  },
  {
   "cell_type": "markdown",
   "metadata": {},
   "source": [
    "Activity Goals:\n",
    "- Create a post_recovery dataframe.\n",
    "- Display the first 3 rows."
   ]
  },
  {
   "cell_type": "code",
   "execution_count": 3,
   "metadata": {},
   "outputs": [
    {
     "data": {
      "text/html": [
       "<div>\n",
       "<style scoped>\n",
       "    .dataframe tbody tr th:only-of-type {\n",
       "        vertical-align: middle;\n",
       "    }\n",
       "\n",
       "    .dataframe tbody tr th {\n",
       "        vertical-align: top;\n",
       "    }\n",
       "\n",
       "    .dataframe thead th {\n",
       "        text-align: right;\n",
       "    }\n",
       "</style>\n",
       "<table border=\"1\" class=\"dataframe\">\n",
       "  <thead>\n",
       "    <tr style=\"text-align: right;\">\n",
       "      <th></th>\n",
       "      <th>period</th>\n",
       "      <th>elephant_id</th>\n",
       "      <th>age</th>\n",
       "      <th>shoulder_height</th>\n",
       "      <th>tusk_length</th>\n",
       "    </tr>\n",
       "  </thead>\n",
       "  <tbody>\n",
       "    <tr>\n",
       "      <th>214</th>\n",
       "      <td>2005-13</td>\n",
       "      <td>52</td>\n",
       "      <td>4.5</td>\n",
       "      <td>195.0</td>\n",
       "      <td>47.0770</td>\n",
       "    </tr>\n",
       "    <tr>\n",
       "      <th>215</th>\n",
       "      <td>2005-13</td>\n",
       "      <td>14</td>\n",
       "      <td>5.0</td>\n",
       "      <td>200.0</td>\n",
       "      <td>48.2328</td>\n",
       "    </tr>\n",
       "    <tr>\n",
       "      <th>216</th>\n",
       "      <td>2005-13</td>\n",
       "      <td>42</td>\n",
       "      <td>5.0</td>\n",
       "      <td>180.0</td>\n",
       "      <td>54.0118</td>\n",
       "    </tr>\n",
       "  </tbody>\n",
       "</table>\n",
       "</div>"
      ],
      "text/plain": [
       "      period  elephant_id  age  shoulder_height  tusk_length\n",
       "214  2005-13           52  4.5            195.0      47.0770\n",
       "215  2005-13           14  5.0            200.0      48.2328\n",
       "216  2005-13           42  5.0            180.0      54.0118"
      ]
     },
     "execution_count": 3,
     "metadata": {},
     "output_type": "execute_result"
    }
   ],
   "source": [
    "post_recovery = df.query('period == \"2005-13\"')\n",
    "post_recovery.head(3)"
   ]
  },
  {
   "cell_type": "markdown",
   "metadata": {},
   "source": [
    "Now we can compare the average tusk length for the two periods.\n",
    "\n",
    "Activity Goals:\n",
    "- Calculate the average tusk length for the pre-poaching period.\n",
    "- Repeat for the post-recovery period."
   ]
  },
  {
   "cell_type": "code",
   "execution_count": 4,
   "metadata": {},
   "outputs": [
    {
     "name": "stdout",
     "output_type": "stream",
     "text": [
      "Before: 67.44088785046729\n",
      "After: 57.968809411764695\n"
     ]
    }
   ],
   "source": [
    "print(\"Before:\", pre_poaching['tusk_length'].mean())\n",
    "print(\"After:\", post_recovery['tusk_length'].mean())"
   ]
  },
  {
   "cell_type": "markdown",
   "metadata": {},
   "source": [
    "On average, tusk lengths appear to have decreased after the poaching period. However, these simple averages do not account for the confounding factor of age. How could age possibly skew the data?\n",
    "\n",
    "Younger elephants are generally smaller and have shorter tusks. If the average age of the elephants in the second cohort is younger, that could skew the data toward smaller tusks. We can address this by analyzing the relationships between tusk length and the overall body height.\n",
    "\n",
    "### Tusk Length vs Shoulder Height\n",
    "Let's start by creating a scatter plot of tusk length vs shoulder height for the two time periods.\n",
    "\n",
    "Activity Goals:\n",
    "- Plot tusk length vs shoulder height for both groups\n",
    "- Use a triangle marker for pre_poaching.\n",
    "- Use a square marker for post_recovery."
   ]
  },
  {
   "cell_type": "code",
   "execution_count": 5,
   "metadata": {},
   "outputs": [
    {
     "data": {
      "image/png": "[encoded data removed]",
      "text/plain": [
       "<Figure size 600x400 with 1 Axes>"
      ]
     },
     "metadata": {},
     "output_type": "display_data"
    }
   ],
   "source": [
    "plt.figure(figsize=(6, 4))\n",
    "plt.scatter(pre_poaching['shoulder_height'], pre_poaching['tusk_length'], marker='^')\n",
    "plt.scatter(post_recovery['shoulder_height'], post_recovery['tusk_length'], marker='s')\n",
    "plt.show()"
   ]
  },
  {
   "cell_type": "markdown",
   "metadata": {},
   "source": [
    "Now let's format the plot to make it easier to interpret. We will label the axes and mark the two groups directly on the plot.\n",
    "\n",
    "Activity Goals:\n",
    "- Label the axes.\n",
    "- Label the 2 groups directly on the plot."
   ]
  },
  {
   "cell_type": "code",
   "execution_count": 6,
   "metadata": {},
   "outputs": [
    {
     "data": {
      "image/png": "[encoded data removed]",
      "text/plain": [
       "<Figure size 600x400 with 1 Axes>"
      ]
     },
     "metadata": {},
     "output_type": "display_data"
    }
   ],
   "source": [
    "plt.figure(figsize=(6, 4))\n",
    "plt.scatter(pre_poaching['shoulder_height'], pre_poaching['tusk_length'], marker='^')\n",
    "plt.scatter(post_recovery['shoulder_height'], post_recovery['tusk_length'], marker='s')\n",
    "plt.xlabel('Shoulder Height (cm)')\n",
    "plt.ylabel('Tusk Length (cm)')\n",
    "plt.text(x=200, y=120, s='Pre-poaching', color='C0')\n",
    "plt.text(x=220, y=35, s='Post-recovery', color='C1')\n",
    "plt.show()"
   ]
  },
  {
   "cell_type": "markdown",
   "metadata": {},
   "source": [
    "For the same shoulder height, pre-poaching elephants generally have longer tusks.\n",
    "\n",
    "### Modeling Tusk Length\n",
    "How can we quantify the change in the relationship between the two periods? One approach is to create linear models for each period and then compare the slopes.\n",
    "\n",
    "A linear model fits a straight line through the data, allowing us to make predictions. Since pandas does not have built-in functions for modeling, we have provided the following python class that utilizes the scikit-learn library."
   ]
  },
  {
   "cell_type": "code",
   "execution_count": 8,
   "metadata": {},
   "outputs": [],
   "source": [
    "import matplotlib.pyplot as plt\n",
    "from sklearn.linear_model import LinearRegression\n",
    "from sklearn.metrics import r2_score\n",
    "\n",
    "class LinearModel:\n",
    "    def __init__(self, model_name=\"\"):\n",
    "        self.model_name = model_name\n",
    "        \n",
    "    def fit(self, x, y):\n",
    "        x = pd.DataFrame(x)\n",
    "        linear_model = LinearRegression().fit(x, y)\n",
    "        y_pred = linear_model.predict(x)\n",
    "        self.slope = linear_model.coef_[0]\n",
    "        self.intercept = linear_model.intercept_\n",
    "        self.rsquared = r2_score(y, y_pred)\n",
    "        \n",
    "    def predict(self, x):\n",
    "        return self.slope * x + self.intercept\n",
    "\n",
    "    def plot_model(self, x_min, x_max, color=\"black\"):\n",
    "        y_min = self.predict(x_min)\n",
    "        y_max = self.predict(x_max)\n",
    "        plt.plot([x_min, x_max], [y_min, y_max], color=color)\n",
    "        \n",
    "    def print_model_info(self):\n",
    "        m = self.slope\n",
    "        b = self.intercept\n",
    "        rsquared = self.rsquared\n",
    "        model_name = self.model_name\n",
    "        print(f'LinearModel({model_name}):')\n",
    "        print(f'Parameters: slope = {m:.2f}, intercept = {b:.2f}')\n",
    "        print(f'Equation: y = {m:.2f}x + {b:.2f}')\n",
    "        print(f'Goodness of Fit (R²): {rsquared:.3f}')"
   ]
  },
  {
   "cell_type": "markdown",
   "metadata": {},
   "source": [
    "First we will create a model for each time period.\n",
    "\n",
    "Activity Goals:\n",
    "- Create a linear model object for the pre-poaching data.\n",
    "- Fit the linear model to the data."
   ]
  },
  {
   "cell_type": "code",
   "execution_count": 9,
   "metadata": {},
   "outputs": [],
   "source": [
    "pre_model = LinearModel(\"pre_poaching\")\n",
    "pre_model.fit(x=pre_poaching['shoulder_height'], y=pre_poaching['tusk_length'])"
   ]
  },
  {
   "cell_type": "markdown",
   "metadata": {},
   "source": [
    "Activity Goals:\n",
    "- Create a linear model object for the post-recovery data.\n",
    "- Fit the linear model to the data."
   ]
  },
  {
   "cell_type": "code",
   "execution_count": 10,
   "metadata": {},
   "outputs": [],
   "source": [
    "post_model = LinearModel(\"post_recovery\")\n",
    "post_model.fit(x=post_recovery['shoulder_height'], y=post_recovery['tusk_length'])"
   ]
  },
  {
   "cell_type": "markdown",
   "metadata": {},
   "source": [
    "Now that we have the two models, let's visualize them together.\n",
    "\n",
    "### Plotting the models\n",
    "Earlier we plotted the two scatter plots. Now we will overlay the linear models to the graph, taking advantage of the `plot_model()` method from our python class.\n",
    "\n",
    "Activity Goals:\n",
    "- Plot pre-poaching model from 140 to 250 cm shoulder height.\n",
    "- Plot post-recovery model."
   ]
  },
  {
   "cell_type": "code",
   "execution_count": 11,
   "metadata": {},
   "outputs": [
    {
     "data": {
      "image/png": "[encoded data removed]",
      "text/plain": [
       "<Figure size 600x400 with 1 Axes>"
      ]
     },
     "metadata": {},
     "output_type": "display_data"
    }
   ],
   "source": [
    "plt.figure(figsize=(6, 4))\n",
    "plt.scatter(pre_poaching['shoulder_height'], pre_poaching['tusk_length'], marker='^')\n",
    "plt.scatter(post_recovery['shoulder_height'], post_recovery['tusk_length'], marker='s')\n",
    "plt.xlabel('Shoulder Height (cm)')\n",
    "plt.ylabel('Tusk Length (cm)')\n",
    "plt.text(200, 120, 'Pre-poaching', color='C0')\n",
    "plt.text(220, 35, 'Post-recovery', color='C1')\n",
    "pre_model.plot_model(140, 250, 'C0')\n",
    "post_model.plot_model(140, 250, 'C1')\n"
   ]
  },
  {
   "cell_type": "markdown",
   "metadata": {},
   "source": [
    "Looking at the two models, we see that the slope for both is positive, indicating that as elephant height increases, tusk length also increases.\n",
    "\n",
    "Comparing the slopes of the two models, we find that the post_recovery model is shallower than the pre_poaching model.That suggests that poaching placed evolutionary pressure on tusk length, leading to elephants with shorter tusks. Let's print the equations for the two models to give us more precise insights into this relationship.\n",
    "\n",
    "Activity Goal:\n",
    "- Pre-poaching model parameters."
   ]
  },
  {
   "cell_type": "code",
   "execution_count": 12,
   "metadata": {},
   "outputs": [
    {
     "name": "stdout",
     "output_type": "stream",
     "text": [
      "LinearModel(pre_poaching):\n",
      "Parameters: slope = 0.83, intercept = -91.14\n",
      "Equation: y = 0.83x + -91.14\n",
      "Goodness of Fit (R²): 0.831\n"
     ]
    }
   ],
   "source": [
    "pre_model.print_model_info()"
   ]
  },
  {
   "cell_type": "markdown",
   "metadata": {},
   "source": [
    "Activity Goal:\n",
    "- Post-recovery model parameters."
   ]
  },
  {
   "cell_type": "code",
   "execution_count": 13,
   "metadata": {},
   "outputs": [
    {
     "name": "stdout",
     "output_type": "stream",
     "text": [
      "LinearModel(post_recovery):\n",
      "Parameters: slope = 0.40, intercept = -22.02\n",
      "Equation: y = 0.40x + -22.02\n",
      "Goodness of Fit (R²): 0.431\n"
     ]
    }
   ],
   "source": [
    "post_model.print_model_info()"
   ]
  },
  {
   "cell_type": "markdown",
   "metadata": {},
   "source": [
    "Here, we observe that the slope prior to poaching is 0.83. After the extreme poaching event, the slope becomes shallower, at 0.40.\n",
    "\n",
    "The targeted poaching of elephants with the longest tusks seems to have reduced the tusk length for future generations.\n",
    "\n",
    "## Project extensions\n",
    "\n",
    "Below are several ideas for project extensions:\n",
    "\n",
    "1. Percent Difference Analysis\n",
    "   - Utilize the model to calculate the tusk length for `pre-poaching` elephants with a shoulder height of 250 cm.\n",
    "\n",
    "   - Perform the same calculation for `post-recovery` elephants with the same shoulder height.\n",
    "\n",
    "   - Calculate how much longer, in percentage, the tusks of `pre-poaching` elephants are compared to `post-recovery` elephants with a 250 cm shoulder height.\n",
    "\n",
    "2. Taller Elephants\n",
    "   - Elephants can reach shoulder heights of up to 400 cm. Use the model to predict the tusk length for elephants of this height in both the `pre_poaching` and `post_recovery` cohorts."
   ]
  },
  {
   "cell_type": "code",
   "execution_count": 78,
   "metadata": {},
   "outputs": [],
   "source": [
    "# YOUR CODE HERE (add new cells as needed)"
   ]
  }
 ],
 "metadata": {
  "kernelspec": {
   "display_name": "Python 3",
   "language": "python",
   "name": "python3"
  },
  "language_info": {
   "codemirror_mode": {
    "name": "ipython",
    "version": 3
   },
   "file_extension": ".py",
   "mimetype": "text/x-python",
   "name": "python",
   "nbconvert_exporter": "python",
   "pygments_lexer": "ipython3",
   "version": "3.13.3"
  }
 },
 "nbformat": 4,
 "nbformat_minor": 2
}
