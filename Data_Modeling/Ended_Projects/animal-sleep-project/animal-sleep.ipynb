{
 "cells": [
  {
   "cell_type": "markdown",
   "metadata": {},
   "source": [
    "# Animal Sleep\n",
    "\n",
    "Some animals, such as elephants, sleep only 3-4 hours a night, while others, like bats, can sleep up to 20 hours.\n",
    "\n",
    "Is there a relationship between sleep duration and body mass? Is a species' diet correlated with sleep time?\n",
    "\n",
    "The file `animal-sleep.csv` provides data on the average sleep duration of 77 animal species, along with their average body mass in kilograms."
   ]
  },
  {
   "cell_type": "code",
   "execution_count": 1,
   "metadata": {},
   "outputs": [],
   "source": [
    "# FOR GOOGLE COLAB ONLY.\n",
    "# Uncomment and run the code below. A dialog will appear to upload files.\n",
    "# Upload 'animal-sleep.csv' and 'linear_model.py'.\n",
    "\n",
    "# from google.colab import files\n",
    "# uploaded = files.upload()"
   ]
  },
  {
   "cell_type": "code",
   "execution_count": 2,
   "metadata": {},
   "outputs": [
    {
     "data": {
      "text/html": [
       "<div>\n",
       "<style scoped>\n",
       "    .dataframe tbody tr th:only-of-type {\n",
       "        vertical-align: middle;\n",
       "    }\n",
       "\n",
       "    .dataframe tbody tr th {\n",
       "        vertical-align: top;\n",
       "    }\n",
       "\n",
       "    .dataframe thead th {\n",
       "        text-align: right;\n",
       "    }\n",
       "</style>\n",
       "<table border=\"1\" class=\"dataframe\">\n",
       "  <thead>\n",
       "    <tr style=\"text-align: right;\">\n",
       "      <th></th>\n",
       "      <th>animal</th>\n",
       "      <th>diet</th>\n",
       "      <th>sleep</th>\n",
       "      <th>mass</th>\n",
       "    </tr>\n",
       "  </thead>\n",
       "  <tbody>\n",
       "    <tr>\n",
       "      <th>0</th>\n",
       "      <td>african elephant</td>\n",
       "      <td>herbivore</td>\n",
       "      <td>3.3</td>\n",
       "      <td>6654.000</td>\n",
       "    </tr>\n",
       "    <tr>\n",
       "      <th>1</th>\n",
       "      <td>african giant pouched rat</td>\n",
       "      <td>omnivore</td>\n",
       "      <td>8.3</td>\n",
       "      <td>1.000</td>\n",
       "    </tr>\n",
       "    <tr>\n",
       "      <th>2</th>\n",
       "      <td>african striped mouse</td>\n",
       "      <td>herbivore</td>\n",
       "      <td>8.7</td>\n",
       "      <td>0.044</td>\n",
       "    </tr>\n",
       "    <tr>\n",
       "      <th>3</th>\n",
       "      <td>arctic fox</td>\n",
       "      <td>carnivore</td>\n",
       "      <td>12.5</td>\n",
       "      <td>3.380</td>\n",
       "    </tr>\n",
       "    <tr>\n",
       "      <th>4</th>\n",
       "      <td>arctic ground squirrel</td>\n",
       "      <td>omnivore</td>\n",
       "      <td>16.6</td>\n",
       "      <td>0.920</td>\n",
       "    </tr>\n",
       "  </tbody>\n",
       "</table>\n",
       "</div>"
      ],
      "text/plain": [
       "                      animal       diet  sleep      mass\n",
       "0           african elephant  herbivore    3.3  6654.000\n",
       "1  african giant pouched rat   omnivore    8.3     1.000\n",
       "2      african striped mouse  herbivore    8.7     0.044\n",
       "3                 arctic fox  carnivore   12.5     3.380\n",
       "4     arctic ground squirrel   omnivore   16.6     0.920"
      ]
     },
     "execution_count": 2,
     "metadata": {},
     "output_type": "execute_result"
    }
   ],
   "source": [
    "import pandas as pd\n",
    "import matplotlib.pyplot as plt\n",
    "from linear_model import LinearModel\n",
    "\n",
    "df = pd.read_csv('animal-sleep.csv')\n",
    "df.head()"
   ]
  },
  {
   "cell_type": "code",
   "execution_count": 3,
   "metadata": {},
   "outputs": [
    {
     "data": {
      "text/plain": [
       "Text(0, 0.5, 'hours of sleep per day')"
      ]
     },
     "execution_count": 3,
     "metadata": {},
     "output_type": "execute_result"
    },
    {
     "data": {
      "image/png": "[encoded data removed]",
      "text/plain": [
       "<Figure size 400x300 with 1 Axes>"
      ]
     },
     "metadata": {},
     "output_type": "display_data"
    }
   ],
   "source": [
    "plt.figure(figsize=(4, 3))\n",
    "plt.scatter(df['mass'], df['sleep'])\n",
    "plt.xlabel('Mass (kg)')\n",
    "plt.ylabel('hours of sleep per day')"
   ]
  },
  {
   "cell_type": "markdown",
   "metadata": {},
   "source": [
    "We see that the mass data exhibits a strong right skew with a long tail. A log transformation can convert an exponential relationship into a linear one, making it easier to model with linear regression."
   ]
  },
  {
   "cell_type": "code",
   "execution_count": 4,
   "metadata": {},
   "outputs": [
    {
     "data": {
      "text/html": [
       "<div>\n",
       "<style scoped>\n",
       "    .dataframe tbody tr th:only-of-type {\n",
       "        vertical-align: middle;\n",
       "    }\n",
       "\n",
       "    .dataframe tbody tr th {\n",
       "        vertical-align: top;\n",
       "    }\n",
       "\n",
       "    .dataframe thead th {\n",
       "        text-align: right;\n",
       "    }\n",
       "</style>\n",
       "<table border=\"1\" class=\"dataframe\">\n",
       "  <thead>\n",
       "    <tr style=\"text-align: right;\">\n",
       "      <th></th>\n",
       "      <th>animal</th>\n",
       "      <th>diet</th>\n",
       "      <th>sleep</th>\n",
       "      <th>mass</th>\n",
       "      <th>log10_mass</th>\n",
       "    </tr>\n",
       "  </thead>\n",
       "  <tbody>\n",
       "    <tr>\n",
       "      <th>0</th>\n",
       "      <td>african elephant</td>\n",
       "      <td>herbivore</td>\n",
       "      <td>3.3</td>\n",
       "      <td>6654.000</td>\n",
       "      <td>3.823083</td>\n",
       "    </tr>\n",
       "    <tr>\n",
       "      <th>1</th>\n",
       "      <td>african giant pouched rat</td>\n",
       "      <td>omnivore</td>\n",
       "      <td>8.3</td>\n",
       "      <td>1.000</td>\n",
       "      <td>0.000000</td>\n",
       "    </tr>\n",
       "    <tr>\n",
       "      <th>2</th>\n",
       "      <td>african striped mouse</td>\n",
       "      <td>herbivore</td>\n",
       "      <td>8.7</td>\n",
       "      <td>0.044</td>\n",
       "      <td>-1.356547</td>\n",
       "    </tr>\n",
       "    <tr>\n",
       "      <th>3</th>\n",
       "      <td>arctic fox</td>\n",
       "      <td>carnivore</td>\n",
       "      <td>12.5</td>\n",
       "      <td>3.380</td>\n",
       "      <td>0.528917</td>\n",
       "    </tr>\n",
       "    <tr>\n",
       "      <th>4</th>\n",
       "      <td>arctic ground squirrel</td>\n",
       "      <td>omnivore</td>\n",
       "      <td>16.6</td>\n",
       "      <td>0.920</td>\n",
       "      <td>-0.036212</td>\n",
       "    </tr>\n",
       "  </tbody>\n",
       "</table>\n",
       "</div>"
      ],
      "text/plain": [
       "                      animal       diet  sleep      mass  log10_mass\n",
       "0           african elephant  herbivore    3.3  6654.000    3.823083\n",
       "1  african giant pouched rat   omnivore    8.3     1.000    0.000000\n",
       "2      african striped mouse  herbivore    8.7     0.044   -1.356547\n",
       "3                 arctic fox  carnivore   12.5     3.380    0.528917\n",
       "4     arctic ground squirrel   omnivore   16.6     0.920   -0.036212"
      ]
     },
     "execution_count": 4,
     "metadata": {},
     "output_type": "execute_result"
    }
   ],
   "source": [
    "import math\n",
    "df['log10_mass'] = df['mass'].apply(math.log10)  # apply the function to each element\n",
    "df.head()"
   ]
  },
  {
   "cell_type": "markdown",
   "metadata": {},
   "source": [
    "Below is code for plotting the data using the log scale."
   ]
  },
  {
   "cell_type": "code",
   "execution_count": 5,
   "metadata": {},
   "outputs": [
    {
     "data": {
      "image/png": "[encoded data removed]",
      "text/plain": [
       "<Figure size 600x400 with 1 Axes>"
      ]
     },
     "metadata": {},
     "output_type": "display_data"
    }
   ],
   "source": [
    "plt.figure(figsize=(6, 4))\n",
    "plt.scatter(df['log10_mass'], df['sleep'])\n",
    "plt.xlabel('Mass (kg)')\n",
    "plt.ylabel('hours of sleep per day')\n",
    "xticks = [-2, -1, 0, 1, 2, 3, 4]\n",
    "xtick_labels = [0.01, 0.1, 1, 10, 100, 1000, 10000]\n",
    "plt.xticks(xticks, xtick_labels)\n",
    "plt.show()"
   ]
  },
  {
   "cell_type": "markdown",
   "metadata": {},
   "source": [
    "### Project Ideas\n",
    "\n",
    "- Model the relationship between `log10_mass` and hours of `sleep`.\n",
    "\n",
    "- Create three separate linear models for each `diet` category: carnivores, omnivores, and herbivores.\n",
    "\n",
    "- Visualize the data and their best-fit lines on a single plot with distinct colors and symbols for each `diet` category, or use separate plots if more suitable.\n",
    "\n",
    "- Explore and propose mechanisms that could explain the results, potentially involving additional research."
   ]
  },
  {
   "cell_type": "code",
   "execution_count": 6,
   "metadata": {},
   "outputs": [],
   "source": [
    "# YOUR CODE HERE (add additional cells as needed)\n",
    "\n",
    "# Linear model API\n",
    "\n",
    "# linear = LinearModel()\n",
    "# linear.fit(x, y)\n",
    "# linear.predict(x)\n",
    "# linear.plot_model(x_min, x_max, color=\"black\")\n",
    "# linear.print_model_info(self):\n"
   ]
  }
 ],
 "metadata": {
  "kernelspec": {
   "display_name": "Python 3",
   "language": "python",
   "name": "python3"
  },
  "language_info": {
   "codemirror_mode": {
    "name": "ipython",
    "version": 3
   },
   "file_extension": ".py",
   "mimetype": "text/x-python",
   "name": "python",
   "nbconvert_exporter": "python",
   "pygments_lexer": "ipython3",
   "version": "3.9.6"
  }
 },
 "nbformat": 4,
 "nbformat_minor": 2
}
