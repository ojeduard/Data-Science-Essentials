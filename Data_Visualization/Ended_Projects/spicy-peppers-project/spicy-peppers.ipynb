{
 "cells": [
  {
   "cell_type": "markdown",
   "metadata": {},
   "source": [
    "# Top 10 Hottest Peppers in the World\n",
    "\n",
    "How hot are the world's hottest peppers? How do they compare to those commonly used in cooking?\n",
    "\n",
    "The Scoville Heat Unit (SHU) measures the spiciness of chili peppers. Originally, this involved diluting a pepper's alcohol-based extract in water until a panel of tasters could no longer detect the heat. The needed dilution determined the SHU. For example, if a pepper extract needed to be diluted 1,000 times before the heat was undetectable, it would be rated at 1,000 SHU.\n",
    "\n",
    "Today, more accurate chemical methods determine SHU, but results are still expressed in Scoville Units.\n",
    "\n",
    "The file `worlds-hottest-peppers.csv` lists the heat levels of the top 10 hottest peppers."
   ]
  },
  {
   "cell_type": "code",
   "execution_count": null,
   "metadata": {},
   "outputs": [],
   "source": [
    "# FOR GOOGLE COLAB ONLY.\n",
    "# Uncomment and run the code below. A dialog will appear to upload files.\n",
    "# Upload 'worlds-hottest-peppers.csv'.\n",
    "\n",
    "# from google.colab import files\n",
    "# uploaded = files.upload()"
   ]
  },
  {
   "cell_type": "code",
   "execution_count": 2,
   "metadata": {},
   "outputs": [
    {
     "data": {
      "text/html": [
       "<div>\n",
       "<style scoped>\n",
       "    .dataframe tbody tr th:only-of-type {\n",
       "        vertical-align: middle;\n",
       "    }\n",
       "\n",
       "    .dataframe tbody tr th {\n",
       "        vertical-align: top;\n",
       "    }\n",
       "\n",
       "    .dataframe thead th {\n",
       "        text-align: right;\n",
       "    }\n",
       "</style>\n",
       "<table border=\"1\" class=\"dataframe\">\n",
       "  <thead>\n",
       "    <tr style=\"text-align: right;\">\n",
       "      <th></th>\n",
       "      <th>pepper</th>\n",
       "      <th>scoville_heat_unit</th>\n",
       "    </tr>\n",
       "  </thead>\n",
       "  <tbody>\n",
       "    <tr>\n",
       "      <th>0</th>\n",
       "      <td>Pepper X</td>\n",
       "      <td>2693000</td>\n",
       "    </tr>\n",
       "    <tr>\n",
       "      <th>1</th>\n",
       "      <td>Carolina Reaper</td>\n",
       "      <td>2200000</td>\n",
       "    </tr>\n",
       "    <tr>\n",
       "      <th>2</th>\n",
       "      <td>Trinidad Moruga Scorpion</td>\n",
       "      <td>2009231</td>\n",
       "    </tr>\n",
       "    <tr>\n",
       "      <th>3</th>\n",
       "      <td>7 Pot Douglah</td>\n",
       "      <td>1853936</td>\n",
       "    </tr>\n",
       "    <tr>\n",
       "      <th>4</th>\n",
       "      <td>7 Pot Primo</td>\n",
       "      <td>1469000</td>\n",
       "    </tr>\n",
       "    <tr>\n",
       "      <th>5</th>\n",
       "      <td>Trinidad Scorpion</td>\n",
       "      <td>1463700</td>\n",
       "    </tr>\n",
       "    <tr>\n",
       "      <th>6</th>\n",
       "      <td>Naga Viper</td>\n",
       "      <td>1349000</td>\n",
       "    </tr>\n",
       "    <tr>\n",
       "      <th>7</th>\n",
       "      <td>Ghost Pepper</td>\n",
       "      <td>1041427</td>\n",
       "    </tr>\n",
       "    <tr>\n",
       "      <th>8</th>\n",
       "      <td>7 Pot Barrackpore</td>\n",
       "      <td>1000000</td>\n",
       "    </tr>\n",
       "    <tr>\n",
       "      <th>9</th>\n",
       "      <td>Red Savina Habanero</td>\n",
       "      <td>500000</td>\n",
       "    </tr>\n",
       "  </tbody>\n",
       "</table>\n",
       "</div>"
      ],
      "text/plain": [
       "                     pepper  scoville_heat_unit\n",
       "0                  Pepper X             2693000\n",
       "1           Carolina Reaper             2200000\n",
       "2  Trinidad Moruga Scorpion             2009231\n",
       "3             7 Pot Douglah             1853936\n",
       "4               7 Pot Primo             1469000\n",
       "5         Trinidad Scorpion             1463700\n",
       "6                Naga Viper             1349000\n",
       "7              Ghost Pepper             1041427\n",
       "8         7 Pot Barrackpore             1000000\n",
       "9       Red Savina Habanero              500000"
      ]
     },
     "execution_count": 2,
     "metadata": {},
     "output_type": "execute_result"
    }
   ],
   "source": [
    "import pandas as pd\n",
    "import matplotlib.pyplot as plt\n",
    "df = pd.read_csv('worlds-hottest-peppers.csv')\n",
    "df"
   ]
  },
  {
   "cell_type": "markdown",
   "metadata": {},
   "source": [
    "### Project Ideas\n",
    "\n",
    "- Create a horizontal bar plot displaying the Scoville units for each pepper.\n",
    "\n",
    "- Follow the Pro Tips.\n",
    "\n",
    "- Use color or a reference bar to help readers build intuition about the heat of these peppers.\n",
    "\n",
    "\n",
    "#### Ideas for storytelling\n",
    "\n",
    "- Compare the world's hottest peppers to common cooking varieties. For example, Jalapeños range from 2,500 to 8,000 Scoville units.\n",
    "\n",
    "- Highlight the rapid development of hotter peppers; for instance, the Ghost Pepper held the record in 2007, but has since been surpassed."
   ]
  },
  {
   "cell_type": "code",
   "execution_count": null,
   "metadata": {},
   "outputs": [],
   "source": [
    "# YOUR CODE HERE (add additional cells as needed)"
   ]
  }
 ],
 "metadata": {
  "kernelspec": {
   "display_name": "Python 3",
   "language": "python",
   "name": "python3"
  },
  "language_info": {
   "codemirror_mode": {
    "name": "ipython",
    "version": 3
   },
   "file_extension": ".py",
   "mimetype": "text/x-python",
   "name": "python",
   "nbconvert_exporter": "python",
   "pygments_lexer": "ipython3",
   "version": "3.9.6"
  }
 },
 "nbformat": 4,
 "nbformat_minor": 2
}
