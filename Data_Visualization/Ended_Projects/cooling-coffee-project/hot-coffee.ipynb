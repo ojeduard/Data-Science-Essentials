{
 "cells": [
  {
   "cell_type": "markdown",
   "metadata": {},
   "source": [
    "# Hot Coffee\n",
    "\n",
    "When you wrap your fingers around a ceramic mug filled with hot coffee, the mug will warm your hands, but the coffee will cool down quickly. In contrast, an insulated metal mug with an air layer is designed to prevent heat transfer, so it won't feel warm to the touch even if it contains scalding liquid. But will the coffee in this mug stay warm for a significantly longer period of time?\n",
    "\n",
    "Let's also consider lids. How crucial is it to use a lid on an insulated cup to maintain the drink's temperature?\n",
    "\n",
    "In the file `hot-coffee.csv`, we have data recording the temperature (in Fahrenheit) of initially hot coffee every 5 minutes in three types of cups:\n",
    "\n",
    "- Insulated with a lid\n",
    "- Insulated without a lid\n",
    "- Ceramic without a lid"
   ]
  },
  {
   "cell_type": "code",
   "execution_count": 1,
   "metadata": {},
   "outputs": [],
   "source": [
    "# FOR GOOGLE COLAB ONLY.\n",
    "# Uncomment and run the code below. A dialog will appear to upload files.\n",
    "# Upload 'hot-coffee.csv'.\n",
    "\n",
    "# from google.colab import files\n",
    "# uploaded = files.upload()"
   ]
  },
  {
   "cell_type": "code",
   "execution_count": 2,
   "metadata": {},
   "outputs": [
    {
     "data": {
      "text/html": [
       "<div>\n",
       "<style scoped>\n",
       "    .dataframe tbody tr th:only-of-type {\n",
       "        vertical-align: middle;\n",
       "    }\n",
       "\n",
       "    .dataframe tbody tr th {\n",
       "        vertical-align: top;\n",
       "    }\n",
       "\n",
       "    .dataframe thead th {\n",
       "        text-align: right;\n",
       "    }\n",
       "</style>\n",
       "<table border=\"1\" class=\"dataframe\">\n",
       "  <thead>\n",
       "    <tr style=\"text-align: right;\">\n",
       "      <th></th>\n",
       "      <th>time</th>\n",
       "      <th>insulated no lid</th>\n",
       "      <th>insulated</th>\n",
       "      <th>ceramic</th>\n",
       "    </tr>\n",
       "  </thead>\n",
       "  <tbody>\n",
       "    <tr>\n",
       "      <th>0</th>\n",
       "      <td>5</td>\n",
       "      <td>146.6</td>\n",
       "      <td>135.5</td>\n",
       "      <td>128.8</td>\n",
       "    </tr>\n",
       "    <tr>\n",
       "      <th>1</th>\n",
       "      <td>10</td>\n",
       "      <td>141.0</td>\n",
       "      <td>118.9</td>\n",
       "      <td>113.9</td>\n",
       "    </tr>\n",
       "    <tr>\n",
       "      <th>2</th>\n",
       "      <td>15</td>\n",
       "      <td>136.7</td>\n",
       "      <td>107.9</td>\n",
       "      <td>102.5</td>\n",
       "    </tr>\n",
       "    <tr>\n",
       "      <th>3</th>\n",
       "      <td>20</td>\n",
       "      <td>132.5</td>\n",
       "      <td>100.5</td>\n",
       "      <td>95.9</td>\n",
       "    </tr>\n",
       "    <tr>\n",
       "      <th>4</th>\n",
       "      <td>25</td>\n",
       "      <td>129.0</td>\n",
       "      <td>94.6</td>\n",
       "      <td>90.5</td>\n",
       "    </tr>\n",
       "    <tr>\n",
       "      <th>5</th>\n",
       "      <td>30</td>\n",
       "      <td>125.6</td>\n",
       "      <td>90.8</td>\n",
       "      <td>86.3</td>\n",
       "    </tr>\n",
       "    <tr>\n",
       "      <th>6</th>\n",
       "      <td>35</td>\n",
       "      <td>123.4</td>\n",
       "      <td>87.6</td>\n",
       "      <td>83.6</td>\n",
       "    </tr>\n",
       "    <tr>\n",
       "      <th>7</th>\n",
       "      <td>40</td>\n",
       "      <td>121.6</td>\n",
       "      <td>85.4</td>\n",
       "      <td>81.6</td>\n",
       "    </tr>\n",
       "    <tr>\n",
       "      <th>8</th>\n",
       "      <td>45</td>\n",
       "      <td>118.5</td>\n",
       "      <td>82.9</td>\n",
       "      <td>79.8</td>\n",
       "    </tr>\n",
       "    <tr>\n",
       "      <th>9</th>\n",
       "      <td>50</td>\n",
       "      <td>117.6</td>\n",
       "      <td>81.3</td>\n",
       "      <td>78.2</td>\n",
       "    </tr>\n",
       "    <tr>\n",
       "      <th>10</th>\n",
       "      <td>55</td>\n",
       "      <td>115.7</td>\n",
       "      <td>79.7</td>\n",
       "      <td>76.6</td>\n",
       "    </tr>\n",
       "  </tbody>\n",
       "</table>\n",
       "</div>"
      ],
      "text/plain": [
       "    time  insulated no lid  insulated  ceramic\n",
       "0      5             146.6      135.5    128.8\n",
       "1     10             141.0      118.9    113.9\n",
       "2     15             136.7      107.9    102.5\n",
       "3     20             132.5      100.5     95.9\n",
       "4     25             129.0       94.6     90.5\n",
       "5     30             125.6       90.8     86.3\n",
       "6     35             123.4       87.6     83.6\n",
       "7     40             121.6       85.4     81.6\n",
       "8     45             118.5       82.9     79.8\n",
       "9     50             117.6       81.3     78.2\n",
       "10    55             115.7       79.7     76.6"
      ]
     },
     "execution_count": 2,
     "metadata": {},
     "output_type": "execute_result"
    }
   ],
   "source": [
    "import pandas as pd\n",
    "import matplotlib.pyplot as plt\n",
    "df = pd.read_csv('hot-coffee.csv')\n",
    "df"
   ]
  },
  {
   "cell_type": "markdown",
   "metadata": {},
   "source": [
    "### Project Ideas:\n",
    "\n",
    "- Create a line plot showing the temperature of the coffee in all three scenarios versus time. \n",
    "\n",
    "- Follow the Pro Tips for creating line plots.\n",
    "\n",
    "- For comparison, consider adding a line representing the ambient air temperature, which was 67 degrees Fahrenheit.\n",
    "\n",
    "Below is a helper function to label lines for your convenience."
   ]
  },
  {
   "cell_type": "code",
   "execution_count": 3,
   "metadata": {},
   "outputs": [],
   "source": [
    "def add_end_labels(df, x, column_names, alpha=1, fontweight='normal'):\n",
    "    for column_name in column_names:\n",
    "        y = df[column_name].iloc[-1]\n",
    "        label = f'  {column_name}'\n",
    "        plt.text(x, y, label, va=\"center\", alpha=alpha, fontweight=fontweight)"
   ]
  },
  {
   "cell_type": "code",
   "execution_count": 4,
   "metadata": {},
   "outputs": [],
   "source": [
    "# YOUR CODE HERE (add additional cells as needed)"
   ]
  }
 ],
 "metadata": {
  "kernelspec": {
   "display_name": "Python 3",
   "language": "python",
   "name": "python3"
  },
  "language_info": {
   "codemirror_mode": {
    "name": "ipython",
    "version": 3
   },
   "file_extension": ".py",
   "mimetype": "text/x-python",
   "name": "python",
   "nbconvert_exporter": "python",
   "pygments_lexer": "ipython3",
   "version": "3.9.6"
  }
 },
 "nbformat": 4,
 "nbformat_minor": 2
}
