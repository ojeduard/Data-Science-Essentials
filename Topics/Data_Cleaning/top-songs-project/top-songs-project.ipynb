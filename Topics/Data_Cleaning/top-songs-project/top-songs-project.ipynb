{
 "cells": [
  {
   "cell_type": "markdown",
   "metadata": {},
   "source": [
    "# A Century of Top Songs\n",
    "\n",
    "[Project extension is at the bottom of this file]\n",
    "\n",
    "What propels a song to become a number-one top hit? Is there an ideal duration? Are today's top-hit durations longer or shorter than a century ago?\n",
    "\n",
    "### Loading the Data\n",
    "\n",
    "The `top-song-durations.csv` file contains information about the number-one hit song for each year from 1923 to 2023. Load the data into python and take a look.\n",
    "\n",
    "Activity Goals:\n",
    "- Import pandas.\n",
    "- Load the top song duration data.\n",
    "- Display the first 5 rows."
   ]
  },
  {
   "cell_type": "code",
   "execution_count": 70,
   "metadata": {},
   "outputs": [],
   "source": [
    "# FOR GOOGLE COLAB ONLY.\n",
    "# Uncomment and run the code below. A dialog will appear to upload files.\n",
    "# Upload 'top-song-durations.csv'.\n",
    "\n",
    "# from google.colab import files\n",
    "# uploaded = files.upload()"
   ]
  },
  {
   "cell_type": "code",
   "execution_count": 2,
   "metadata": {},
   "outputs": [
    {
     "data": {
      "text/html": [
       "<div>\n",
       "<style scoped>\n",
       "    .dataframe tbody tr th:only-of-type {\n",
       "        vertical-align: middle;\n",
       "    }\n",
       "\n",
       "    .dataframe tbody tr th {\n",
       "        vertical-align: top;\n",
       "    }\n",
       "\n",
       "    .dataframe thead th {\n",
       "        text-align: right;\n",
       "    }\n",
       "</style>\n",
       "<table border=\"1\" class=\"dataframe\">\n",
       "  <thead>\n",
       "    <tr style=\"text-align: right;\">\n",
       "      <th></th>\n",
       "      <th>year</th>\n",
       "      <th>artist</th>\n",
       "      <th>title</th>\n",
       "      <th>duration</th>\n",
       "    </tr>\n",
       "  </thead>\n",
       "  <tbody>\n",
       "    <tr>\n",
       "      <th>0</th>\n",
       "      <td>2023</td>\n",
       "      <td>Morgan Wallen</td>\n",
       "      <td>Last Night</td>\n",
       "      <td>00:02:43</td>\n",
       "    </tr>\n",
       "    <tr>\n",
       "      <th>1</th>\n",
       "      <td>2022</td>\n",
       "      <td>Glass Animals</td>\n",
       "      <td>Heat Waves</td>\n",
       "      <td>00:03:58</td>\n",
       "    </tr>\n",
       "    <tr>\n",
       "      <th>2</th>\n",
       "      <td>2021</td>\n",
       "      <td>Dua Lipa</td>\n",
       "      <td>Levitating</td>\n",
       "      <td>00:03:23</td>\n",
       "    </tr>\n",
       "    <tr>\n",
       "      <th>3</th>\n",
       "      <td>2020</td>\n",
       "      <td>The Weeknd</td>\n",
       "      <td>Blinding Lights</td>\n",
       "      <td>00:03:20</td>\n",
       "    </tr>\n",
       "    <tr>\n",
       "      <th>4</th>\n",
       "      <td>2019</td>\n",
       "      <td>Lil Nas X feat. Billy Ray Cyrus</td>\n",
       "      <td>Old Town Road</td>\n",
       "      <td>00:02:37</td>\n",
       "    </tr>\n",
       "  </tbody>\n",
       "</table>\n",
       "</div>"
      ],
      "text/plain": [
       "   year                           artist            title  duration\n",
       "0  2023                    Morgan Wallen       Last Night  00:02:43\n",
       "1  2022                    Glass Animals       Heat Waves  00:03:58\n",
       "2  2021                         Dua Lipa       Levitating  00:03:23\n",
       "3  2020                       The Weeknd  Blinding Lights  00:03:20\n",
       "4  2019  Lil Nas X feat. Billy Ray Cyrus    Old Town Road  00:02:37"
      ]
     },
     "execution_count": 2,
     "metadata": {},
     "output_type": "execute_result"
    }
   ],
   "source": [
    "import pandas as pd\n",
    "df = pd.read_csv('top-song-durations.csv')\n",
    "df = df.convert_dtypes()\n",
    "df.head(5)\n"
   ]
  },
  {
   "cell_type": "markdown",
   "metadata": {},
   "source": [
    "The 2019 top-hit is 2 minutes and 37 seconds long.\n",
    "\n",
    "This is the shortest song among these first 5 rows. Let's see how it compares to the shortest song in the entire dataset.\n",
    "\n",
    "Activity Goal:\n",
    "- Find the shortest song in the dataset."
   ]
  },
  {
   "cell_type": "code",
   "execution_count": 3,
   "metadata": {},
   "outputs": [
    {
     "data": {
      "text/html": [
       "<div>\n",
       "<style scoped>\n",
       "    .dataframe tbody tr th:only-of-type {\n",
       "        vertical-align: middle;\n",
       "    }\n",
       "\n",
       "    .dataframe tbody tr th {\n",
       "        vertical-align: top;\n",
       "    }\n",
       "\n",
       "    .dataframe thead th {\n",
       "        text-align: right;\n",
       "    }\n",
       "</style>\n",
       "<table border=\"1\" class=\"dataframe\">\n",
       "  <thead>\n",
       "    <tr style=\"text-align: right;\">\n",
       "      <th></th>\n",
       "      <th>year</th>\n",
       "      <th>artist</th>\n",
       "      <th>title</th>\n",
       "      <th>duration</th>\n",
       "    </tr>\n",
       "  </thead>\n",
       "  <tbody>\n",
       "    <tr>\n",
       "      <th>95</th>\n",
       "      <td>1928</td>\n",
       "      <td>Al Jolson</td>\n",
       "      <td>Sonny Boy</td>\n",
       "      <td>00:01:55</td>\n",
       "    </tr>\n",
       "  </tbody>\n",
       "</table>\n",
       "</div>"
      ],
      "text/plain": [
       "    year     artist      title  duration\n",
       "95  1928  Al Jolson  Sonny Boy  00:01:55"
      ]
     },
     "execution_count": 3,
     "metadata": {},
     "output_type": "execute_result"
    }
   ],
   "source": [
    "df.query('duration == duration.min()')"
   ]
  },
  {
   "cell_type": "markdown",
   "metadata": {},
   "source": [
    "The shortest song, \"Sonny Boy\", was the top hit in 1928, toward the end of the Roaring 20s and just before the Great Depression. Is this a coincidence?\n",
    "\n",
    "To gain more insights into the historical trends, let's graph the durations of these top-hit songs over time.\n",
    "\n",
    "### Attempting to Plot the Data\n",
    "\n",
    "One might expect the following code to generate a plot of the duration over the years. Run the code to see what happens."
   ]
  },
  {
   "cell_type": "code",
   "execution_count": 4,
   "metadata": {},
   "outputs": [
    {
     "data": {
      "text/plain": [
       "[<matplotlib.lines.Line2D at 0x1144ee0d0>]"
      ]
     },
     "execution_count": 4,
     "metadata": {},
     "output_type": "execute_result"
    },
    {
     "data": {
      "image/png": "[encoded data removed]",
      "text/plain": [
       "<Figure size 640x480 with 1 Axes>"
      ]
     },
     "metadata": {},
     "output_type": "display_data"
    }
   ],
   "source": [
    "import matplotlib.pyplot as plt\n",
    "plt.plot(df['year'], df['duration'])"
   ]
  },
  {
   "cell_type": "markdown",
   "metadata": {},
   "source": [
    "Oops... It seems that the data on the y-axis is not numeric.\n",
    "\n",
    "We can get a listing of the data types for each column using the `info( )` method.\n",
    "\n",
    "Activity Goal:\n",
    "- List basic information for each column."
   ]
  },
  {
   "cell_type": "code",
   "execution_count": 5,
   "metadata": {},
   "outputs": [
    {
     "name": "stdout",
     "output_type": "stream",
     "text": [
      "<class 'pandas.core.frame.DataFrame'>\n",
      "RangeIndex: 101 entries, 0 to 100\n",
      "Data columns (total 4 columns):\n",
      " #   Column    Non-Null Count  Dtype \n",
      "---  ------    --------------  ----- \n",
      " 0   year      101 non-null    Int64 \n",
      " 1   artist    101 non-null    string\n",
      " 2   title     101 non-null    string\n",
      " 3   duration  101 non-null    string\n",
      "dtypes: Int64(1), string(3)\n",
      "memory usage: 3.4 KB\n"
     ]
    }
   ],
   "source": [
    "df.info()"
   ]
  },
  {
   "cell_type": "markdown",
   "metadata": {},
   "source": [
    "From the data type info (`Dtype`), only the year is an number. The rest of the columns, including `duration`, are all of type string.\n",
    "\n",
    "A string data type is a way for computers to store text, such as words or other sequences of characters. Even though \"00:01:55\" looks numeric, it is not one of the basic number formats that python parses by default.\n",
    "\n",
    "### Parsing the Duration\n",
    "\n",
    "In order to graph our data, we need to convert the duration strings into numbers. As with most coding goals, there are multiple ways we could pull this off. The following is one approach.\n",
    "\n",
    "We can first use the `str.split()` method to split each duration string (e.g. \"00:01:55\"). We'll split using the \":\" character to get separate substrings for hours, minutes, and seconds.\n",
    "\n",
    "Activity Goals:\n",
    "- Split the duration values on the ':' character.\n",
    "- Expand the result into new columns.\n",
    "- Assign the result to a new dataframe called split_duration.\n",
    "- Show the first 5 rows of split_duration."
   ]
  },
  {
   "cell_type": "code",
   "execution_count": 6,
   "metadata": {},
   "outputs": [
    {
     "data": {
      "text/html": [
       "<div>\n",
       "<style scoped>\n",
       "    .dataframe tbody tr th:only-of-type {\n",
       "        vertical-align: middle;\n",
       "    }\n",
       "\n",
       "    .dataframe tbody tr th {\n",
       "        vertical-align: top;\n",
       "    }\n",
       "\n",
       "    .dataframe thead th {\n",
       "        text-align: right;\n",
       "    }\n",
       "</style>\n",
       "<table border=\"1\" class=\"dataframe\">\n",
       "  <thead>\n",
       "    <tr style=\"text-align: right;\">\n",
       "      <th></th>\n",
       "      <th>0</th>\n",
       "      <th>1</th>\n",
       "      <th>2</th>\n",
       "    </tr>\n",
       "  </thead>\n",
       "  <tbody>\n",
       "    <tr>\n",
       "      <th>0</th>\n",
       "      <td>00</td>\n",
       "      <td>02</td>\n",
       "      <td>43</td>\n",
       "    </tr>\n",
       "    <tr>\n",
       "      <th>1</th>\n",
       "      <td>00</td>\n",
       "      <td>03</td>\n",
       "      <td>58</td>\n",
       "    </tr>\n",
       "    <tr>\n",
       "      <th>2</th>\n",
       "      <td>00</td>\n",
       "      <td>03</td>\n",
       "      <td>23</td>\n",
       "    </tr>\n",
       "    <tr>\n",
       "      <th>3</th>\n",
       "      <td>00</td>\n",
       "      <td>03</td>\n",
       "      <td>20</td>\n",
       "    </tr>\n",
       "    <tr>\n",
       "      <th>4</th>\n",
       "      <td>00</td>\n",
       "      <td>02</td>\n",
       "      <td>37</td>\n",
       "    </tr>\n",
       "  </tbody>\n",
       "</table>\n",
       "</div>"
      ],
      "text/plain": [
       "    0   1   2\n",
       "0  00  02  43\n",
       "1  00  03  58\n",
       "2  00  03  23\n",
       "3  00  03  20\n",
       "4  00  02  37"
      ]
     },
     "execution_count": 6,
     "metadata": {},
     "output_type": "execute_result"
    }
   ],
   "source": [
    "split_duration = df['duration'].str.split(':', expand=True)\n",
    "split_duration.head(5)"
   ]
  },
  {
   "cell_type": "markdown",
   "metadata": {},
   "source": [
    "Perfect. The duration strings got split into 3 columns (0, 1 and 2).\n",
    "\n",
    "The first row represents a song duration that is 0 hours, 2 minutes, and 43 seconds long.\n",
    "\n",
    "Notice that the hours and minutes have leading zeros. This is a clue that they are still strings, which makes sense the `str.split()` method creates substrings.\n",
    "\n",
    "Let's now convert all these string values to integers using the `astype()` method.\n",
    "\n",
    "Activity Goals:\n",
    "- Convert all values in split_duration to integers.\n",
    "- Display the first 5 rows."
   ]
  },
  {
   "cell_type": "code",
   "execution_count": 7,
   "metadata": {},
   "outputs": [
    {
     "data": {
      "text/html": [
       "<div>\n",
       "<style scoped>\n",
       "    .dataframe tbody tr th:only-of-type {\n",
       "        vertical-align: middle;\n",
       "    }\n",
       "\n",
       "    .dataframe tbody tr th {\n",
       "        vertical-align: top;\n",
       "    }\n",
       "\n",
       "    .dataframe thead th {\n",
       "        text-align: right;\n",
       "    }\n",
       "</style>\n",
       "<table border=\"1\" class=\"dataframe\">\n",
       "  <thead>\n",
       "    <tr style=\"text-align: right;\">\n",
       "      <th></th>\n",
       "      <th>0</th>\n",
       "      <th>1</th>\n",
       "      <th>2</th>\n",
       "    </tr>\n",
       "  </thead>\n",
       "  <tbody>\n",
       "    <tr>\n",
       "      <th>0</th>\n",
       "      <td>0</td>\n",
       "      <td>2</td>\n",
       "      <td>43</td>\n",
       "    </tr>\n",
       "    <tr>\n",
       "      <th>1</th>\n",
       "      <td>0</td>\n",
       "      <td>3</td>\n",
       "      <td>58</td>\n",
       "    </tr>\n",
       "    <tr>\n",
       "      <th>2</th>\n",
       "      <td>0</td>\n",
       "      <td>3</td>\n",
       "      <td>23</td>\n",
       "    </tr>\n",
       "    <tr>\n",
       "      <th>3</th>\n",
       "      <td>0</td>\n",
       "      <td>3</td>\n",
       "      <td>20</td>\n",
       "    </tr>\n",
       "    <tr>\n",
       "      <th>4</th>\n",
       "      <td>0</td>\n",
       "      <td>2</td>\n",
       "      <td>37</td>\n",
       "    </tr>\n",
       "  </tbody>\n",
       "</table>\n",
       "</div>"
      ],
      "text/plain": [
       "   0  1   2\n",
       "0  0  2  43\n",
       "1  0  3  58\n",
       "2  0  3  23\n",
       "3  0  3  20\n",
       "4  0  2  37"
      ]
     },
     "execution_count": 7,
     "metadata": {},
     "output_type": "execute_result"
    }
   ],
   "source": [
    "split_duration = split_duration.astype('int')\n",
    "split_duration.head(5)"
   ]
  },
  {
   "cell_type": "markdown",
   "metadata": {},
   "source": [
    "This looks like it worked since we no longer have the extra leading zeros.\n",
    "\n",
    "If we weren't sure, we could confirm these are integers using `df.info( )`.\n",
    "\n",
    "### Naming the Columns\n",
    "Now let's bring these new numeric columns back into our main dataframe. We also want give the columns better names than 0, 1 and 2.\n",
    "\n",
    "We can use 'h', 'm' and 's' as short names for hours, minutes and seconds.\n",
    "\n",
    "Activity Goals:\n",
    "- Add 'h', 'm', and 's' columns to our main dataframe.\n",
    "- Show the first 5 rows."
   ]
  },
  {
   "cell_type": "code",
   "execution_count": 8,
   "metadata": {},
   "outputs": [
    {
     "data": {
      "text/html": [
       "<div>\n",
       "<style scoped>\n",
       "    .dataframe tbody tr th:only-of-type {\n",
       "        vertical-align: middle;\n",
       "    }\n",
       "\n",
       "    .dataframe tbody tr th {\n",
       "        vertical-align: top;\n",
       "    }\n",
       "\n",
       "    .dataframe thead th {\n",
       "        text-align: right;\n",
       "    }\n",
       "</style>\n",
       "<table border=\"1\" class=\"dataframe\">\n",
       "  <thead>\n",
       "    <tr style=\"text-align: right;\">\n",
       "      <th></th>\n",
       "      <th>year</th>\n",
       "      <th>artist</th>\n",
       "      <th>title</th>\n",
       "      <th>duration</th>\n",
       "      <th>h</th>\n",
       "      <th>m</th>\n",
       "      <th>s</th>\n",
       "    </tr>\n",
       "  </thead>\n",
       "  <tbody>\n",
       "    <tr>\n",
       "      <th>0</th>\n",
       "      <td>2023</td>\n",
       "      <td>Morgan Wallen</td>\n",
       "      <td>Last Night</td>\n",
       "      <td>00:02:43</td>\n",
       "      <td>0</td>\n",
       "      <td>2</td>\n",
       "      <td>43</td>\n",
       "    </tr>\n",
       "    <tr>\n",
       "      <th>1</th>\n",
       "      <td>2022</td>\n",
       "      <td>Glass Animals</td>\n",
       "      <td>Heat Waves</td>\n",
       "      <td>00:03:58</td>\n",
       "      <td>0</td>\n",
       "      <td>3</td>\n",
       "      <td>58</td>\n",
       "    </tr>\n",
       "    <tr>\n",
       "      <th>2</th>\n",
       "      <td>2021</td>\n",
       "      <td>Dua Lipa</td>\n",
       "      <td>Levitating</td>\n",
       "      <td>00:03:23</td>\n",
       "      <td>0</td>\n",
       "      <td>3</td>\n",
       "      <td>23</td>\n",
       "    </tr>\n",
       "    <tr>\n",
       "      <th>3</th>\n",
       "      <td>2020</td>\n",
       "      <td>The Weeknd</td>\n",
       "      <td>Blinding Lights</td>\n",
       "      <td>00:03:20</td>\n",
       "      <td>0</td>\n",
       "      <td>3</td>\n",
       "      <td>20</td>\n",
       "    </tr>\n",
       "    <tr>\n",
       "      <th>4</th>\n",
       "      <td>2019</td>\n",
       "      <td>Lil Nas X feat. Billy Ray Cyrus</td>\n",
       "      <td>Old Town Road</td>\n",
       "      <td>00:02:37</td>\n",
       "      <td>0</td>\n",
       "      <td>2</td>\n",
       "      <td>37</td>\n",
       "    </tr>\n",
       "  </tbody>\n",
       "</table>\n",
       "</div>"
      ],
      "text/plain": [
       "   year                           artist            title  duration  h  m   s\n",
       "0  2023                    Morgan Wallen       Last Night  00:02:43  0  2  43\n",
       "1  2022                    Glass Animals       Heat Waves  00:03:58  0  3  58\n",
       "2  2021                         Dua Lipa       Levitating  00:03:23  0  3  23\n",
       "3  2020                       The Weeknd  Blinding Lights  00:03:20  0  3  20\n",
       "4  2019  Lil Nas X feat. Billy Ray Cyrus    Old Town Road  00:02:37  0  2  37"
      ]
     },
     "execution_count": 8,
     "metadata": {},
     "output_type": "execute_result"
    }
   ],
   "source": [
    "df[['h', 'm', 's']] = split_duration\n",
    "df.head(5)"
   ]
  },
  {
   "cell_type": "markdown",
   "metadata": {},
   "source": [
    "Cool! We just learned how to split a string into multiple numeric columns!\n",
    "\n",
    "### Calculating Total Seconds\n",
    "\n",
    "Now that we have 'h', 'm' and 's' columns, we can use an `eval( )` to calculate the total seconds.\n",
    "\n",
    "Since there are 3600 seconds in an hour, we can use the formula:\n",
    "\n",
    "`total_seconds = h*3600 + m*60 + s`\n",
    "\n",
    "Activity Goals:\n",
    "- Calculate the total seconds for each song.\n",
    "- Assign the result to a new column called `total_seconds`.\n",
    "- Display the first 5 rows.\n"
   ]
  },
  {
   "cell_type": "code",
   "execution_count": 9,
   "metadata": {},
   "outputs": [
    {
     "data": {
      "text/html": [
       "<div>\n",
       "<style scoped>\n",
       "    .dataframe tbody tr th:only-of-type {\n",
       "        vertical-align: middle;\n",
       "    }\n",
       "\n",
       "    .dataframe tbody tr th {\n",
       "        vertical-align: top;\n",
       "    }\n",
       "\n",
       "    .dataframe thead th {\n",
       "        text-align: right;\n",
       "    }\n",
       "</style>\n",
       "<table border=\"1\" class=\"dataframe\">\n",
       "  <thead>\n",
       "    <tr style=\"text-align: right;\">\n",
       "      <th></th>\n",
       "      <th>year</th>\n",
       "      <th>artist</th>\n",
       "      <th>title</th>\n",
       "      <th>duration</th>\n",
       "      <th>h</th>\n",
       "      <th>m</th>\n",
       "      <th>s</th>\n",
       "      <th>total_seconds</th>\n",
       "    </tr>\n",
       "  </thead>\n",
       "  <tbody>\n",
       "    <tr>\n",
       "      <th>0</th>\n",
       "      <td>2023</td>\n",
       "      <td>Morgan Wallen</td>\n",
       "      <td>Last Night</td>\n",
       "      <td>00:02:43</td>\n",
       "      <td>0</td>\n",
       "      <td>2</td>\n",
       "      <td>43</td>\n",
       "      <td>163</td>\n",
       "    </tr>\n",
       "    <tr>\n",
       "      <th>1</th>\n",
       "      <td>2022</td>\n",
       "      <td>Glass Animals</td>\n",
       "      <td>Heat Waves</td>\n",
       "      <td>00:03:58</td>\n",
       "      <td>0</td>\n",
       "      <td>3</td>\n",
       "      <td>58</td>\n",
       "      <td>238</td>\n",
       "    </tr>\n",
       "    <tr>\n",
       "      <th>2</th>\n",
       "      <td>2021</td>\n",
       "      <td>Dua Lipa</td>\n",
       "      <td>Levitating</td>\n",
       "      <td>00:03:23</td>\n",
       "      <td>0</td>\n",
       "      <td>3</td>\n",
       "      <td>23</td>\n",
       "      <td>203</td>\n",
       "    </tr>\n",
       "    <tr>\n",
       "      <th>3</th>\n",
       "      <td>2020</td>\n",
       "      <td>The Weeknd</td>\n",
       "      <td>Blinding Lights</td>\n",
       "      <td>00:03:20</td>\n",
       "      <td>0</td>\n",
       "      <td>3</td>\n",
       "      <td>20</td>\n",
       "      <td>200</td>\n",
       "    </tr>\n",
       "    <tr>\n",
       "      <th>4</th>\n",
       "      <td>2019</td>\n",
       "      <td>Lil Nas X feat. Billy Ray Cyrus</td>\n",
       "      <td>Old Town Road</td>\n",
       "      <td>00:02:37</td>\n",
       "      <td>0</td>\n",
       "      <td>2</td>\n",
       "      <td>37</td>\n",
       "      <td>157</td>\n",
       "    </tr>\n",
       "  </tbody>\n",
       "</table>\n",
       "</div>"
      ],
      "text/plain": [
       "   year                           artist            title  duration  h  m   s  \\\n",
       "0  2023                    Morgan Wallen       Last Night  00:02:43  0  2  43   \n",
       "1  2022                    Glass Animals       Heat Waves  00:03:58  0  3  58   \n",
       "2  2021                         Dua Lipa       Levitating  00:03:23  0  3  23   \n",
       "3  2020                       The Weeknd  Blinding Lights  00:03:20  0  3  20   \n",
       "4  2019  Lil Nas X feat. Billy Ray Cyrus    Old Town Road  00:02:37  0  2  37   \n",
       "\n",
       "   total_seconds  \n",
       "0            163  \n",
       "1            238  \n",
       "2            203  \n",
       "3            200  \n",
       "4            157  "
      ]
     },
     "execution_count": 9,
     "metadata": {},
     "output_type": "execute_result"
    }
   ],
   "source": [
    "df['total_seconds'] = df.eval('h*3600 + m*60 + s')\n",
    "df.head(5)\n"
   ]
  },
  {
   "cell_type": "markdown",
   "metadata": {},
   "source": [
    "That worked. We now have a single numeric column representing song durations.\n",
    "\n",
    "# Plotting Top-Hit Song Durations\n",
    "Let's visualize how the durations of top-hit songs changed over the years.\n",
    "\n",
    "Activity Goals:\n",
    "- Plot the total_seconds vs year.\n",
    "- Label the axes."
   ]
  },
  {
   "cell_type": "code",
   "execution_count": 10,
   "metadata": {},
   "outputs": [
    {
     "data": {
      "image/png": "[encoded data removed]",
      "text/plain": [
       "<Figure size 700x300 with 1 Axes>"
      ]
     },
     "metadata": {},
     "output_type": "display_data"
    }
   ],
   "source": [
    "plt.figure(figsize=(7, 3))\n",
    "plt.plot(df['year'],df['total_seconds'])\n",
    "plt.xlabel('Year')\n",
    "plt.ylabel('Duration (Seconds)')\n",
    "plt.show()\n"
   ]
  },
  {
   "cell_type": "markdown",
   "metadata": {},
   "source": [
    "Success! We have a visual!\n",
    "\n",
    "Notice the sharp spike in song duration in 1968 (431 seconds). The median song duration of the number one hit song increased after this spike.\n",
    "\n",
    "### The Longest Top Hit\n",
    "What is that longest top-hit song that forms a sharp peak on the graph? It appears to be about twice as long as any top-hit song that came before it. Let's find out.\n",
    "\n",
    "Activity Goal:\n",
    "- Find the longest song in the dataset."
   ]
  },
  {
   "cell_type": "code",
   "execution_count": 11,
   "metadata": {},
   "outputs": [
    {
     "data": {
      "text/html": [
       "<div>\n",
       "<style scoped>\n",
       "    .dataframe tbody tr th:only-of-type {\n",
       "        vertical-align: middle;\n",
       "    }\n",
       "\n",
       "    .dataframe tbody tr th {\n",
       "        vertical-align: top;\n",
       "    }\n",
       "\n",
       "    .dataframe thead th {\n",
       "        text-align: right;\n",
       "    }\n",
       "</style>\n",
       "<table border=\"1\" class=\"dataframe\">\n",
       "  <thead>\n",
       "    <tr style=\"text-align: right;\">\n",
       "      <th></th>\n",
       "      <th>year</th>\n",
       "      <th>artist</th>\n",
       "      <th>title</th>\n",
       "      <th>duration</th>\n",
       "      <th>h</th>\n",
       "      <th>m</th>\n",
       "      <th>s</th>\n",
       "      <th>total_seconds</th>\n",
       "    </tr>\n",
       "  </thead>\n",
       "  <tbody>\n",
       "    <tr>\n",
       "      <th>55</th>\n",
       "      <td>1968</td>\n",
       "      <td>The Beatles</td>\n",
       "      <td>Hey Jude</td>\n",
       "      <td>00:07:11</td>\n",
       "      <td>0</td>\n",
       "      <td>7</td>\n",
       "      <td>11</td>\n",
       "      <td>431</td>\n",
       "    </tr>\n",
       "  </tbody>\n",
       "</table>\n",
       "</div>"
      ],
      "text/plain": [
       "    year       artist     title  duration  h  m   s  total_seconds\n",
       "55  1968  The Beatles  Hey Jude  00:07:11  0  7  11            431"
      ]
     },
     "execution_count": 11,
     "metadata": {},
     "output_type": "execute_result"
    }
   ],
   "source": [
    "df.query('total_seconds == total_seconds.max()')\n"
   ]
  },
  {
   "cell_type": "markdown",
   "metadata": {},
   "source": [
    "The longest top song is 'Hey Jude' by The Beatles.\n",
    "\n",
    "## Project extensions\n",
    "\n",
    "\n",
    "1. What is the average duration of top songs prior to 1968? After 1968?\n",
    "\n"
   ]
  },
  {
   "cell_type": "code",
   "execution_count": 19,
   "metadata": {},
   "outputs": [
    {
     "name": "stdout",
     "output_type": "stream",
     "text": [
      "Average duration before 1968: 172.64444444444445\n",
      "Average duration after 1968: 226.83636363636364\n"
     ]
    }
   ],
   "source": [
    "# YOUR CODE HERE (add new cells as needed)\n",
    "avg_before_1968 = df.query('year < 1968')['total_seconds'].mean()\n",
    "avg_after_1968 = df.query('year > 1968')['total_seconds'].mean()\n",
    "\n",
    "print(\"Average duration before 1968:\", avg_before_1968)\n",
    "print(\"Average duration after 1968:\", avg_after_1968)\n",
    "\n",
    "\n"
   ]
  },
  {
   "cell_type": "code",
   "execution_count": null,
   "metadata": {},
   "outputs": [],
   "source": []
  }
 ],
 "metadata": {
  "kernelspec": {
   "display_name": "Python 3",
   "language": "python",
   "name": "python3"
  },
  "language_info": {
   "codemirror_mode": {
    "name": "ipython",
    "version": 3
   },
   "file_extension": ".py",
   "mimetype": "text/x-python",
   "name": "python",
   "nbconvert_exporter": "python",
   "pygments_lexer": "ipython3",
   "version": "3.13.3"
  }
 },
 "nbformat": 4,
 "nbformat_minor": 2
}
