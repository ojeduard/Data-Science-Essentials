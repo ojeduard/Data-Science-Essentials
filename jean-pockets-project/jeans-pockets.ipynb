{
 "cells": [
  {
   "cell_type": "markdown",
   "metadata": {},
   "source": [
    "# Jean pockets\n",
    "\n",
    "Are women jean pockets ridiculously small? Let's look at the data!\n",
    "\n",
    "The file `jean-pocket-measurements.csv` shows pocket measurements for 20 popular brands.\n",
    "Four pairs of jeans from each brand were measured: men's and women's skinny and straight styles. All jeans were designated a 32-inch waistband. \n",
    "\n",
    "The following measurements are included:\n",
    "- `height_front`: maximum front pocket height (cm)\n",
    "- `height_back`: maximum back pocket height (cm)\n",
    "- `width_front`: maximum front pocket width (cm)\n",
    "- `width_back`: maximum back pocket width (cm)"
   ]
  },
  {
   "cell_type": "code",
   "execution_count": null,
   "metadata": {},
   "outputs": [],
   "source": [
    "# FOR GOOGLE COLAB ONLY.\n",
    "# Uncomment and run the code below. A dialog will appear to upload files.\n",
    "# Upload 'jean-pocket-measurements.csv'.\n",
    "\n",
    "# from google.colab import files\n",
    "# uploaded = files.upload()"
   ]
  },
  {
   "cell_type": "code",
   "execution_count": 1,
   "metadata": {},
   "outputs": [
    {
     "data": {
      "text/html": [
       "<div>\n",
       "<style scoped>\n",
       "    .dataframe tbody tr th:only-of-type {\n",
       "        vertical-align: middle;\n",
       "    }\n",
       "\n",
       "    .dataframe tbody tr th {\n",
       "        vertical-align: top;\n",
       "    }\n",
       "\n",
       "    .dataframe thead th {\n",
       "        text-align: right;\n",
       "    }\n",
       "</style>\n",
       "<table border=\"1\" class=\"dataframe\">\n",
       "  <thead>\n",
       "    <tr style=\"text-align: right;\">\n",
       "      <th></th>\n",
       "      <th>brand</th>\n",
       "      <th>style</th>\n",
       "      <th>gender</th>\n",
       "      <th>height_front</th>\n",
       "      <th>width_front</th>\n",
       "      <th>height_back</th>\n",
       "      <th>width_back</th>\n",
       "    </tr>\n",
       "  </thead>\n",
       "  <tbody>\n",
       "    <tr>\n",
       "      <th>0</th>\n",
       "      <td>3fe5003e</td>\n",
       "      <td>skinny</td>\n",
       "      <td>women</td>\n",
       "      <td>14.5</td>\n",
       "      <td>16.5</td>\n",
       "      <td>15.0</td>\n",
       "      <td>13.7</td>\n",
       "    </tr>\n",
       "    <tr>\n",
       "      <th>1</th>\n",
       "      <td>3fe5003e</td>\n",
       "      <td>straight</td>\n",
       "      <td>women</td>\n",
       "      <td>14.5</td>\n",
       "      <td>16.0</td>\n",
       "      <td>15.5</td>\n",
       "      <td>13.0</td>\n",
       "    </tr>\n",
       "    <tr>\n",
       "      <th>2</th>\n",
       "      <td>790c6eab</td>\n",
       "      <td>skinny</td>\n",
       "      <td>women</td>\n",
       "      <td>13.0</td>\n",
       "      <td>14.5</td>\n",
       "      <td>15.5</td>\n",
       "      <td>13.5</td>\n",
       "    </tr>\n",
       "    <tr>\n",
       "      <th>3</th>\n",
       "      <td>790c6eab</td>\n",
       "      <td>straight</td>\n",
       "      <td>women</td>\n",
       "      <td>13.0</td>\n",
       "      <td>14.5</td>\n",
       "      <td>14.5</td>\n",
       "      <td>13.0</td>\n",
       "    </tr>\n",
       "    <tr>\n",
       "      <th>4</th>\n",
       "      <td>26aaf627</td>\n",
       "      <td>skinny</td>\n",
       "      <td>women</td>\n",
       "      <td>13.0</td>\n",
       "      <td>14.0</td>\n",
       "      <td>14.0</td>\n",
       "      <td>14.2</td>\n",
       "    </tr>\n",
       "  </tbody>\n",
       "</table>\n",
       "</div>"
      ],
      "text/plain": [
       "      brand     style gender  height_front  width_front  height_back  \\\n",
       "0  3fe5003e    skinny  women          14.5         16.5         15.0   \n",
       "1  3fe5003e  straight  women          14.5         16.0         15.5   \n",
       "2  790c6eab    skinny  women          13.0         14.5         15.5   \n",
       "3  790c6eab  straight  women          13.0         14.5         14.5   \n",
       "4  26aaf627    skinny  women          13.0         14.0         14.0   \n",
       "\n",
       "   width_back  \n",
       "0        13.7  \n",
       "1        13.0  \n",
       "2        13.5  \n",
       "3        13.0  \n",
       "4        14.2  "
      ]
     },
     "execution_count": 1,
     "metadata": {},
     "output_type": "execute_result"
    }
   ],
   "source": [
    "import pandas as pd\n",
    "df = pd.read_csv('jean-pocket-measurements.csv')\n",
    "df.head()"
   ]
  },
  {
   "cell_type": "markdown",
   "metadata": {},
   "source": [
    "### Project Ideas\n",
    "\n",
    "- What is the average difference in pocket `height_front` between women's and men's jeans?\n",
    "\n",
    "- Is there a significant difference in pocket `height_front` between skinny and straight styles within the same gender?\n",
    "\n",
    "- How do back pocket sizes compare between women's and men's jeans?\n",
    "\n",
    "- Measure your phone's height. What percentage of women's and men's jeans can comfortably fit your phone in the pockets?\n",
    "\n"
   ]
  },
  {
   "cell_type": "code",
   "execution_count": 2,
   "metadata": {},
   "outputs": [
    {
     "name": "stdout",
     "output_type": "stream",
     "text": [
      "Difference height of the front pocket: 8.8025 cms\n",
      "Difference in styles men: 0.10999999999999943 cms\n",
      "Difference in styles women: -0.11500000000000021 cms\n"
     ]
    }
   ],
   "source": [
    "# YOUR CODE HERE (add more cells as needed)\n",
    "\n",
    "# Calculate the difference in average height of the front pocket between\n",
    "means = df.groupby('gender')['height_front'].mean()\n",
    "difference_women_and_men = round(means['men'] - means['women'], 4)\n",
    "\n",
    "# Calculate diffenreces between skinny and straight styles\n",
    "means_style = df.groupby(['gender', 'style'])['height_front'].mean()\n",
    "men_height_front_diffrence = means_style['men']['skinny'] - means_style['men']['straight']\n",
    "women_height_front_diffrence = means_style['women']['skinny'] - means_style['women']['straight']\n",
    "\n",
    "\n",
    "# Print the results\n",
    "print(f'Difference height of the front pocket: {difference_women_and_men} cms')\n",
    "print(f'Difference in styles men: {men_height_front_diffrence} cms')\n",
    "print(f'Difference in styles women: {women_height_front_diffrence} cms')\n",
    "\n",
    "\n"
   ]
  },
  {
   "cell_type": "code",
   "execution_count": 3,
   "metadata": {},
   "outputs": [
    {
     "data": {
      "image/png": "[encoded data removed]",
      "text/plain": [
       "<Figure size 800x400 with 1 Axes>"
      ]
     },
     "metadata": {},
     "output_type": "display_data"
    }
   ],
   "source": [
    "import matplotlib.pyplot as plt\n",
    "df['back_pocket_area'] = df['height_back'] * df['width_back']\n",
    "back_pockets = df.groupby('gender')[['height_back', 'width_back', 'back_pocket_area']].mean().reset_index()\n",
    "plt.figure(figsize=(8, 4))\n",
    "plt.bar(back_pockets['gender'], back_pockets['back_pocket_area'], color=['skyblue', 'lightpink'], width=0.5)\n",
    "plt.ylabel('Average Back Pocket Area (cm²)')\n",
    "plt.title('Back Pocket Area by Gender')\n",
    "plt.show()\n"
   ]
  },
  {
   "cell_type": "code",
   "execution_count": 72,
   "metadata": {},
   "outputs": [
    {
     "data": {
      "text/html": [
       "<div>\n",
       "<style scoped>\n",
       "    .dataframe tbody tr th:only-of-type {\n",
       "        vertical-align: middle;\n",
       "    }\n",
       "\n",
       "    .dataframe tbody tr th {\n",
       "        vertical-align: top;\n",
       "    }\n",
       "\n",
       "    .dataframe thead th {\n",
       "        text-align: right;\n",
       "    }\n",
       "</style>\n",
       "<table border=\"1\" class=\"dataframe\">\n",
       "  <thead>\n",
       "    <tr style=\"text-align: right;\">\n",
       "      <th></th>\n",
       "      <th>gender</th>\n",
       "      <th>count</th>\n",
       "      <th>total_back_pocket</th>\n",
       "      <th>Pocket_Porcentage</th>\n",
       "    </tr>\n",
       "  </thead>\n",
       "  <tbody>\n",
       "    <tr>\n",
       "      <th>0</th>\n",
       "      <td>women</td>\n",
       "      <td>40</td>\n",
       "      <td>31</td>\n",
       "      <td>77.5</td>\n",
       "    </tr>\n",
       "    <tr>\n",
       "      <th>1</th>\n",
       "      <td>men</td>\n",
       "      <td>40</td>\n",
       "      <td>40</td>\n",
       "      <td>100.0</td>\n",
       "    </tr>\n",
       "  </tbody>\n",
       "</table>\n",
       "</div>"
      ],
      "text/plain": [
       "  gender  count  total_back_pocket  Pocket_Porcentage\n",
       "0  women     40                 31               77.5\n",
       "1    men     40                 40              100.0"
      ]
     },
     "execution_count": 72,
     "metadata": {},
     "output_type": "execute_result"
    }
   ],
   "source": [
    "IPHONE_13_HEIGHT = 14.68  # cm\n",
    "# Amount of people per gender\n",
    "people_per_gender = df['gender'].value_counts().reset_index()\n",
    "people_per_gender.columns = ['gender', 'count']\n",
    "\n",
    "\n",
    "# Calculate the number of iPhone 13s that fit in the back pocket per group\n",
    "total_back_pocket_per_gender = df.query('height_back >= @IPHONE_13_HEIGHT or height_front >= @IPHONE_13_HEIGHT')['gender'].value_counts().reset_index()\n",
    "total_back_pocket_per_gender.columns = ['gender', 'total_back_pocket']\n",
    "\n",
    "\n",
    "# Merge the two DataFrames\n",
    "merged_df = pd.merge(people_per_gender, total_back_pocket_per_gender)\n",
    "merged_df['Pocket_Porcentage'] = merged_df['total_back_pocket'] / merged_df['count'] * 100\n",
    "merged_df\n"
   ]
  },
  {
   "cell_type": "code",
   "execution_count": 88,
   "metadata": {},
   "outputs": [
    {
     "data": {
      "text/html": [
       "<div>\n",
       "<style scoped>\n",
       "    .dataframe tbody tr th:only-of-type {\n",
       "        vertical-align: middle;\n",
       "    }\n",
       "\n",
       "    .dataframe tbody tr th {\n",
       "        vertical-align: top;\n",
       "    }\n",
       "\n",
       "    .dataframe thead th {\n",
       "        text-align: right;\n",
       "    }\n",
       "</style>\n",
       "<table border=\"1\" class=\"dataframe\">\n",
       "  <thead>\n",
       "    <tr style=\"text-align: right;\">\n",
       "      <th></th>\n",
       "      <th>gender</th>\n",
       "      <th>count</th>\n",
       "      <th>total_back_pocket</th>\n",
       "      <th>Pocket_Percentage</th>\n",
       "    </tr>\n",
       "  </thead>\n",
       "  <tbody>\n",
       "    <tr>\n",
       "      <th>0</th>\n",
       "      <td>men</td>\n",
       "      <td>40</td>\n",
       "      <td>40</td>\n",
       "      <td>100.0</td>\n",
       "    </tr>\n",
       "    <tr>\n",
       "      <th>1</th>\n",
       "      <td>women</td>\n",
       "      <td>40</td>\n",
       "      <td>31</td>\n",
       "      <td>77.5</td>\n",
       "    </tr>\n",
       "  </tbody>\n",
       "</table>\n",
       "</div>"
      ],
      "text/plain": [
       "  gender  count  total_back_pocket  Pocket_Percentage\n",
       "0    men     40                 40              100.0\n",
       "1  women     40                 31               77.5"
      ]
     },
     "execution_count": 88,
     "metadata": {},
     "output_type": "execute_result"
    }
   ],
   "source": [
    "# Another version to response this\n",
    "IPHONE_13_HEIGHT = 14.68  # cm\n",
    "\n",
    "# Count gender\n",
    "people_per_gender2 = df['gender'].value_counts()\n",
    "\n",
    "# Count how many people can fit an iPhone 13 in their back pocket\n",
    "can_fit_iphone = df[(df['height_back'] >= IPHONE_13_HEIGHT) | (df['height_front'] >= IPHONE_13_HEIGHT)]['gender'].value_counts()\n",
    "\n",
    "\n",
    "# Merge the two Series into a DataFrame\n",
    "merged_df2 = pd.DataFrame({\n",
    "    'count': people_per_gender2,\n",
    "    'total_back_pocket': can_fit_iphone\n",
    "}).fillna(0)\n",
    "\n",
    "merged_df2['Pocket_Percentage'] = merged_df2['total_back_pocket'] / merged_df2['count'] * 100\n",
    "merged_df2 = merged_df2.reset_index().rename(columns={'index': 'gender'})\n",
    "merged_df2"
   ]
  },
  {
   "cell_type": "code",
   "execution_count": null,
   "metadata": {},
   "outputs": [],
   "source": []
  }
 ],
 "metadata": {
  "kernelspec": {
   "display_name": "Python 3",
   "language": "python",
   "name": "python3"
  },
  "language_info": {
   "codemirror_mode": {
    "name": "ipython",
    "version": 3
   },
   "file_extension": ".py",
   "mimetype": "text/x-python",
   "name": "python",
   "nbconvert_exporter": "python",
   "pygments_lexer": "ipython3",
   "version": "3.13.3"
  }
 },
 "nbformat": 4,
 "nbformat_minor": 2
}
