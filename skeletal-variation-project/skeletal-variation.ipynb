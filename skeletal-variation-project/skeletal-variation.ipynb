{
 "cells": [
  {
   "cell_type": "markdown",
   "metadata": {},
   "source": [
    "# Skeletal Variation\n",
    "\n",
    "[Project extensions are at the bottom of this file]\n",
    "\n",
    "The comparison of skeletons across species lead to historical insights in evolutionary biology. In this project, you will explore the bones of the human body and make comparisons to a wide variety of mammals and birds.\n"
   ]
  },
  {
   "cell_type": "code",
   "execution_count": 43,
   "metadata": {},
   "outputs": [],
   "source": [
    "# FOR GOOGLE COLAB ONLY.\n",
    "# Uncomment and run the code below. A dialog will appear to upload files.\n",
    "# Upload 'adult-human-skeleton.csv', 'bird-neck-bones.csv', and 'mammal-neck-bones.csv'.\n",
    "\n",
    "# from google.colab import files\n",
    "# uploaded = files.upload()"
   ]
  },
  {
   "cell_type": "markdown",
   "metadata": {},
   "source": [
    "### Loading the Data\n",
    "\n",
    "The file `'adult-human-skeleton.csv'` contains information about every bone in the human body. \n",
    "Load the csv data and take a look.\n",
    "\n",
    "Activity Goals:\n",
    "- Import pandas.\n",
    "- Load the skeleton data.\n",
    "- Display the dataframe."
   ]
  },
  {
   "cell_type": "code",
   "execution_count": 44,
   "metadata": {},
   "outputs": [
    {
     "data": {
      "text/html": [
       "<div>\n",
       "<style scoped>\n",
       "    .dataframe tbody tr th:only-of-type {\n",
       "        vertical-align: middle;\n",
       "    }\n",
       "\n",
       "    .dataframe tbody tr th {\n",
       "        vertical-align: top;\n",
       "    }\n",
       "\n",
       "    .dataframe thead th {\n",
       "        text-align: right;\n",
       "    }\n",
       "</style>\n",
       "<table border=\"1\" class=\"dataframe\">\n",
       "  <thead>\n",
       "    <tr style=\"text-align: right;\">\n",
       "      <th></th>\n",
       "      <th>name</th>\n",
       "      <th>region</th>\n",
       "      <th>subregion</th>\n",
       "      <th>side</th>\n",
       "      <th>fused_from</th>\n",
       "    </tr>\n",
       "  </thead>\n",
       "  <tbody>\n",
       "    <tr>\n",
       "      <th>0</th>\n",
       "      <td>frontal</td>\n",
       "      <td>head</td>\n",
       "      <td>cranium</td>\n",
       "      <td>center</td>\n",
       "      <td>2</td>\n",
       "    </tr>\n",
       "    <tr>\n",
       "      <th>1</th>\n",
       "      <td>left parietal</td>\n",
       "      <td>head</td>\n",
       "      <td>cranium</td>\n",
       "      <td>left</td>\n",
       "      <td>1</td>\n",
       "    </tr>\n",
       "    <tr>\n",
       "      <th>2</th>\n",
       "      <td>right parietal</td>\n",
       "      <td>head</td>\n",
       "      <td>cranium</td>\n",
       "      <td>right</td>\n",
       "      <td>1</td>\n",
       "    </tr>\n",
       "    <tr>\n",
       "      <th>3</th>\n",
       "      <td>left temporal</td>\n",
       "      <td>head</td>\n",
       "      <td>cranium</td>\n",
       "      <td>left</td>\n",
       "      <td>1</td>\n",
       "    </tr>\n",
       "    <tr>\n",
       "      <th>4</th>\n",
       "      <td>right temporal</td>\n",
       "      <td>head</td>\n",
       "      <td>cranium</td>\n",
       "      <td>right</td>\n",
       "      <td>1</td>\n",
       "    </tr>\n",
       "    <tr>\n",
       "      <th>...</th>\n",
       "      <td>...</td>\n",
       "      <td>...</td>\n",
       "      <td>...</td>\n",
       "      <td>...</td>\n",
       "      <td>...</td>\n",
       "    </tr>\n",
       "    <tr>\n",
       "      <th>201</th>\n",
       "      <td>right distal pedal phalanx 1</td>\n",
       "      <td>foot</td>\n",
       "      <td>toes</td>\n",
       "      <td>right</td>\n",
       "      <td>1</td>\n",
       "    </tr>\n",
       "    <tr>\n",
       "      <th>202</th>\n",
       "      <td>right distal pedal phalanx 2</td>\n",
       "      <td>foot</td>\n",
       "      <td>toes</td>\n",
       "      <td>right</td>\n",
       "      <td>1</td>\n",
       "    </tr>\n",
       "    <tr>\n",
       "      <th>203</th>\n",
       "      <td>right distal pedal phalanx 3</td>\n",
       "      <td>foot</td>\n",
       "      <td>toes</td>\n",
       "      <td>right</td>\n",
       "      <td>1</td>\n",
       "    </tr>\n",
       "    <tr>\n",
       "      <th>204</th>\n",
       "      <td>right distal pedal phalanx 4</td>\n",
       "      <td>foot</td>\n",
       "      <td>toes</td>\n",
       "      <td>right</td>\n",
       "      <td>1</td>\n",
       "    </tr>\n",
       "    <tr>\n",
       "      <th>205</th>\n",
       "      <td>right distal pedal phalanx 5</td>\n",
       "      <td>foot</td>\n",
       "      <td>toes</td>\n",
       "      <td>right</td>\n",
       "      <td>1</td>\n",
       "    </tr>\n",
       "  </tbody>\n",
       "</table>\n",
       "<p>206 rows × 5 columns</p>\n",
       "</div>"
      ],
      "text/plain": [
       "                             name region subregion    side  fused_from\n",
       "0                         frontal   head   cranium  center           2\n",
       "1                   left parietal   head   cranium    left           1\n",
       "2                  right parietal   head   cranium   right           1\n",
       "3                   left temporal   head   cranium    left           1\n",
       "4                  right temporal   head   cranium   right           1\n",
       "..                            ...    ...       ...     ...         ...\n",
       "201  right distal pedal phalanx 1   foot      toes   right           1\n",
       "202  right distal pedal phalanx 2   foot      toes   right           1\n",
       "203  right distal pedal phalanx 3   foot      toes   right           1\n",
       "204  right distal pedal phalanx 4   foot      toes   right           1\n",
       "205  right distal pedal phalanx 5   foot      toes   right           1\n",
       "\n",
       "[206 rows x 5 columns]"
      ]
     },
     "execution_count": 44,
     "metadata": {},
     "output_type": "execute_result"
    }
   ],
   "source": [
    "import pandas as pd\n",
    "df = pd.read_csv('adult-human-skeleton.csv')\n",
    "df #display the dataframe"
   ]
  },
  {
   "cell_type": "markdown",
   "metadata": {},
   "source": [
    "Each row represents one bone in the adult human body. We can see that adults have 206 bones. What can we learn about these bones?\n",
    "\n",
    "### Claim: Half the bones are in the hands and feet\n",
    "\n",
    "You might have heard the claim that over half the bones in your body are found in your hands and feet. Is this claim true or is it an urban legend?\n",
    "\n",
    "Let's see how many bones are in each region using the `value_counts()` method.\n",
    "\n",
    "Activity Goal:\n",
    "- Find the counts for each value in the 'region' column."
   ]
  },
  {
   "cell_type": "code",
   "execution_count": 45,
   "metadata": {},
   "outputs": [
    {
     "data": {
      "text/plain": [
       "region\n",
       "hand     54\n",
       "foot     52\n",
       "torso    50\n",
       "head     28\n",
       "neck      8\n",
       "leg       8\n",
       "arm       6\n",
       "Name: count, dtype: int64"
      ]
     },
     "execution_count": 45,
     "metadata": {},
     "output_type": "execute_result"
    }
   ],
   "source": [
    "df['region'].value_counts()"
   ]
  },
  {
   "cell_type": "markdown",
   "metadata": {},
   "source": [
    "The hands have a total of 54 bones ,and the feet have 52 bones.\n",
    "\n",
    "Earlier we saw that the entire body has 206 bones. Using python, we can calculate what proportion are in the hands and feet. Run the code below:"
   ]
  },
  {
   "cell_type": "code",
   "execution_count": 46,
   "metadata": {},
   "outputs": [
    {
     "data": {
      "text/plain": [
       "0.5145631067961165"
      ]
     },
     "execution_count": 46,
     "metadata": {},
     "output_type": "execute_result"
    }
   ],
   "source": [
    "(54 + 52) / 206"
   ]
  },
  {
   "cell_type": "markdown",
   "metadata": {},
   "source": [
    "Over 51% of bones are found in the hands and feet. The claim is true!\n",
    "\n",
    "### Baby bones\n",
    "\n",
    "Infants have more bones than adults, but as the baby develops, groups of bones fuse together. This is detailed in the `'fused_from'` column of our data.\n",
    "\n",
    "Let's sort the values in this `'fused_from'` column.\n",
    "\n",
    "Activity Goals:\n",
    "- Sort the dataframe by the `'fused_from'` column.\n",
    "- Use descending order."
   ]
  },
  {
   "cell_type": "code",
   "execution_count": 47,
   "metadata": {},
   "outputs": [
    {
     "data": {
      "text/html": [
       "<div>\n",
       "<style scoped>\n",
       "    .dataframe tbody tr th:only-of-type {\n",
       "        vertical-align: middle;\n",
       "    }\n",
       "\n",
       "    .dataframe tbody tr th {\n",
       "        vertical-align: top;\n",
       "    }\n",
       "\n",
       "    .dataframe thead th {\n",
       "        text-align: right;\n",
       "    }\n",
       "</style>\n",
       "<table border=\"1\" class=\"dataframe\">\n",
       "  <thead>\n",
       "    <tr style=\"text-align: right;\">\n",
       "      <th></th>\n",
       "      <th>name</th>\n",
       "      <th>region</th>\n",
       "      <th>subregion</th>\n",
       "      <th>side</th>\n",
       "      <th>fused_from</th>\n",
       "    </tr>\n",
       "  </thead>\n",
       "  <tbody>\n",
       "    <tr>\n",
       "      <th>40</th>\n",
       "      <td>sternum</td>\n",
       "      <td>torso</td>\n",
       "      <td>chest</td>\n",
       "      <td>center</td>\n",
       "      <td>6</td>\n",
       "    </tr>\n",
       "    <tr>\n",
       "      <th>82</th>\n",
       "      <td>sacrum</td>\n",
       "      <td>torso</td>\n",
       "      <td>pelvis</td>\n",
       "      <td>center</td>\n",
       "      <td>5</td>\n",
       "    </tr>\n",
       "    <tr>\n",
       "      <th>30</th>\n",
       "      <td>c2</td>\n",
       "      <td>neck</td>\n",
       "      <td>vertebra</td>\n",
       "      <td>center</td>\n",
       "      <td>5</td>\n",
       "    </tr>\n",
       "    <tr>\n",
       "      <th>83</th>\n",
       "      <td>coccyx</td>\n",
       "      <td>torso</td>\n",
       "      <td>pelvis</td>\n",
       "      <td>center</td>\n",
       "      <td>4</td>\n",
       "    </tr>\n",
       "    <tr>\n",
       "      <th>5</th>\n",
       "      <td>occipital</td>\n",
       "      <td>head</td>\n",
       "      <td>cranium</td>\n",
       "      <td>center</td>\n",
       "      <td>4</td>\n",
       "    </tr>\n",
       "    <tr>\n",
       "      <th>...</th>\n",
       "      <td>...</td>\n",
       "      <td>...</td>\n",
       "      <td>...</td>\n",
       "      <td>...</td>\n",
       "      <td>...</td>\n",
       "    </tr>\n",
       "    <tr>\n",
       "      <th>100</th>\n",
       "      <td>left trapezium</td>\n",
       "      <td>hand</td>\n",
       "      <td>wrist</td>\n",
       "      <td>left</td>\n",
       "      <td>1</td>\n",
       "    </tr>\n",
       "    <tr>\n",
       "      <th>101</th>\n",
       "      <td>right trapezium</td>\n",
       "      <td>hand</td>\n",
       "      <td>wrist</td>\n",
       "      <td>right</td>\n",
       "      <td>1</td>\n",
       "    </tr>\n",
       "    <tr>\n",
       "      <th>102</th>\n",
       "      <td>left trapezoid</td>\n",
       "      <td>hand</td>\n",
       "      <td>wrist</td>\n",
       "      <td>left</td>\n",
       "      <td>1</td>\n",
       "    </tr>\n",
       "    <tr>\n",
       "      <th>1</th>\n",
       "      <td>left parietal</td>\n",
       "      <td>head</td>\n",
       "      <td>cranium</td>\n",
       "      <td>left</td>\n",
       "      <td>1</td>\n",
       "    </tr>\n",
       "    <tr>\n",
       "      <th>205</th>\n",
       "      <td>right distal pedal phalanx 5</td>\n",
       "      <td>foot</td>\n",
       "      <td>toes</td>\n",
       "      <td>right</td>\n",
       "      <td>1</td>\n",
       "    </tr>\n",
       "  </tbody>\n",
       "</table>\n",
       "<p>206 rows × 5 columns</p>\n",
       "</div>"
      ],
      "text/plain": [
       "                             name region subregion    side  fused_from\n",
       "40                        sternum  torso     chest  center           6\n",
       "82                         sacrum  torso    pelvis  center           5\n",
       "30                             c2   neck  vertebra  center           5\n",
       "83                         coccyx  torso    pelvis  center           4\n",
       "5                       occipital   head   cranium  center           4\n",
       "..                            ...    ...       ...     ...         ...\n",
       "100                left trapezium   hand     wrist    left           1\n",
       "101               right trapezium   hand     wrist   right           1\n",
       "102                left trapezoid   hand     wrist    left           1\n",
       "1                   left parietal   head   cranium    left           1\n",
       "205  right distal pedal phalanx 5   foot      toes   right           1\n",
       "\n",
       "[206 rows x 5 columns]"
      ]
     },
     "execution_count": 47,
     "metadata": {},
     "output_type": "execute_result"
    }
   ],
   "source": [
    "df.sort_values(by='fused_from', ascending=False)"
   ]
  },
  {
   "cell_type": "markdown",
   "metadata": {},
   "source": [
    "This shows a wide variety of bone fusion across the body. For example, the sternum is formed from the fusion of 6 bones.\n",
    "\n",
    "Before all this fusion takes place, how many bones do infants have? We can answer this by calculating the `sum()` of all the fused_from values.\n",
    "\n",
    "Activity Goals:\n",
    "- Select the `'fused_from'` column.\n",
    "- Add up all values in that column."
   ]
  },
  {
   "cell_type": "code",
   "execution_count": 48,
   "metadata": {},
   "outputs": [
    {
     "data": {
      "text/plain": [
       "305"
      ]
     },
     "execution_count": 48,
     "metadata": {},
     "output_type": "execute_result"
    }
   ],
   "source": [
    "df['fused_from'].sum()"
   ]
  },
  {
   "cell_type": "markdown",
   "metadata": {},
   "source": [
    "Human infants have 305 bones, many of which fuse together, resulting in 206 bones in the adult body.\n",
    "\n",
    "### Human neck bones\n",
    "\n",
    "Necks are quite flexible. How many bones are in the human neck to allow for that flexibility?\n",
    "\n",
    "Let's use the `query()` method to find out.\n",
    "\n",
    "Activity Goal:\n",
    "- Find all rows where the region is 'neck'."
   ]
  },
  {
   "cell_type": "code",
   "execution_count": 49,
   "metadata": {},
   "outputs": [
    {
     "data": {
      "text/html": [
       "<div>\n",
       "<style scoped>\n",
       "    .dataframe tbody tr th:only-of-type {\n",
       "        vertical-align: middle;\n",
       "    }\n",
       "\n",
       "    .dataframe tbody tr th {\n",
       "        vertical-align: top;\n",
       "    }\n",
       "\n",
       "    .dataframe thead th {\n",
       "        text-align: right;\n",
       "    }\n",
       "</style>\n",
       "<table border=\"1\" class=\"dataframe\">\n",
       "  <thead>\n",
       "    <tr style=\"text-align: right;\">\n",
       "      <th></th>\n",
       "      <th>name</th>\n",
       "      <th>region</th>\n",
       "      <th>subregion</th>\n",
       "      <th>side</th>\n",
       "      <th>fused_from</th>\n",
       "    </tr>\n",
       "  </thead>\n",
       "  <tbody>\n",
       "    <tr>\n",
       "      <th>28</th>\n",
       "      <td>hyoid</td>\n",
       "      <td>neck</td>\n",
       "      <td>throat</td>\n",
       "      <td>center</td>\n",
       "      <td>3</td>\n",
       "    </tr>\n",
       "    <tr>\n",
       "      <th>29</th>\n",
       "      <td>c1</td>\n",
       "      <td>neck</td>\n",
       "      <td>vertebra</td>\n",
       "      <td>center</td>\n",
       "      <td>3</td>\n",
       "    </tr>\n",
       "    <tr>\n",
       "      <th>30</th>\n",
       "      <td>c2</td>\n",
       "      <td>neck</td>\n",
       "      <td>vertebra</td>\n",
       "      <td>center</td>\n",
       "      <td>5</td>\n",
       "    </tr>\n",
       "    <tr>\n",
       "      <th>31</th>\n",
       "      <td>c3</td>\n",
       "      <td>neck</td>\n",
       "      <td>vertebra</td>\n",
       "      <td>center</td>\n",
       "      <td>3</td>\n",
       "    </tr>\n",
       "    <tr>\n",
       "      <th>32</th>\n",
       "      <td>c4</td>\n",
       "      <td>neck</td>\n",
       "      <td>vertebra</td>\n",
       "      <td>center</td>\n",
       "      <td>3</td>\n",
       "    </tr>\n",
       "    <tr>\n",
       "      <th>33</th>\n",
       "      <td>c5</td>\n",
       "      <td>neck</td>\n",
       "      <td>vertebra</td>\n",
       "      <td>center</td>\n",
       "      <td>3</td>\n",
       "    </tr>\n",
       "    <tr>\n",
       "      <th>34</th>\n",
       "      <td>c6</td>\n",
       "      <td>neck</td>\n",
       "      <td>vertebra</td>\n",
       "      <td>center</td>\n",
       "      <td>3</td>\n",
       "    </tr>\n",
       "    <tr>\n",
       "      <th>35</th>\n",
       "      <td>c7</td>\n",
       "      <td>neck</td>\n",
       "      <td>vertebra</td>\n",
       "      <td>center</td>\n",
       "      <td>3</td>\n",
       "    </tr>\n",
       "  </tbody>\n",
       "</table>\n",
       "</div>"
      ],
      "text/plain": [
       "     name region subregion    side  fused_from\n",
       "28  hyoid   neck    throat  center           3\n",
       "29     c1   neck  vertebra  center           3\n",
       "30     c2   neck  vertebra  center           5\n",
       "31     c3   neck  vertebra  center           3\n",
       "32     c4   neck  vertebra  center           3\n",
       "33     c5   neck  vertebra  center           3\n",
       "34     c6   neck  vertebra  center           3\n",
       "35     c7   neck  vertebra  center           3"
      ]
     },
     "execution_count": 49,
     "metadata": {},
     "output_type": "execute_result"
    }
   ],
   "source": [
    "df.query('region == \"neck\"')"
   ]
  },
  {
   "cell_type": "markdown",
   "metadata": {},
   "source": [
    "The neck has 1 throat bone, and a stack of 7 neck vertebrae, named C1 through C7. The \"C\" stands for cervical, meaning neck. These 7 cervical vertebrae form the top of the spinal column.\n",
    "\n",
    "So, humans have 7 neck vertebrae. What about other mammals?\n",
    "\n",
    "### Mammal neck bones\n",
    "\n",
    "This project includes the <code>'mammal-neck-bones.csv'</code> file. Let's load it so we can explore the necks of other mammals.\n",
    "\n",
    "Activity Goals:\n",
    "- Load the mammal neck data.\n",
    "- Display it."
   ]
  },
  {
   "cell_type": "code",
   "execution_count": 50,
   "metadata": {},
   "outputs": [
    {
     "data": {
      "text/html": [
       "<div>\n",
       "<style scoped>\n",
       "    .dataframe tbody tr th:only-of-type {\n",
       "        vertical-align: middle;\n",
       "    }\n",
       "\n",
       "    .dataframe tbody tr th {\n",
       "        vertical-align: top;\n",
       "    }\n",
       "\n",
       "    .dataframe thead th {\n",
       "        text-align: right;\n",
       "    }\n",
       "</style>\n",
       "<table border=\"1\" class=\"dataframe\">\n",
       "  <thead>\n",
       "    <tr style=\"text-align: right;\">\n",
       "      <th></th>\n",
       "      <th>species</th>\n",
       "      <th>neck_vertebrae</th>\n",
       "    </tr>\n",
       "  </thead>\n",
       "  <tbody>\n",
       "    <tr>\n",
       "      <th>0</th>\n",
       "      <td>cheetah</td>\n",
       "      <td>7</td>\n",
       "    </tr>\n",
       "    <tr>\n",
       "      <th>1</th>\n",
       "      <td>impala</td>\n",
       "      <td>7</td>\n",
       "    </tr>\n",
       "    <tr>\n",
       "      <th>2</th>\n",
       "      <td>giant panda</td>\n",
       "      <td>7</td>\n",
       "    </tr>\n",
       "    <tr>\n",
       "      <th>3</th>\n",
       "      <td>hartebeest</td>\n",
       "      <td>7</td>\n",
       "    </tr>\n",
       "    <tr>\n",
       "      <th>4</th>\n",
       "      <td>moose</td>\n",
       "      <td>7</td>\n",
       "    </tr>\n",
       "    <tr>\n",
       "      <th>...</th>\n",
       "      <td>...</td>\n",
       "      <td>...</td>\n",
       "    </tr>\n",
       "    <tr>\n",
       "      <th>297</th>\n",
       "      <td>alpaca</td>\n",
       "      <td>7</td>\n",
       "    </tr>\n",
       "    <tr>\n",
       "      <th>298</th>\n",
       "      <td>common wombat</td>\n",
       "      <td>7</td>\n",
       "    </tr>\n",
       "    <tr>\n",
       "      <th>299</th>\n",
       "      <td>red fox</td>\n",
       "      <td>7</td>\n",
       "    </tr>\n",
       "    <tr>\n",
       "      <th>300</th>\n",
       "      <td>fennec fox</td>\n",
       "      <td>7</td>\n",
       "    </tr>\n",
       "    <tr>\n",
       "      <th>301</th>\n",
       "      <td>california sea lion</td>\n",
       "      <td>7</td>\n",
       "    </tr>\n",
       "  </tbody>\n",
       "</table>\n",
       "<p>302 rows × 2 columns</p>\n",
       "</div>"
      ],
      "text/plain": [
       "                 species  neck_vertebrae\n",
       "0                cheetah               7\n",
       "1                 impala               7\n",
       "2            giant panda               7\n",
       "3             hartebeest               7\n",
       "4                  moose               7\n",
       "..                   ...             ...\n",
       "297               alpaca               7\n",
       "298        common wombat               7\n",
       "299              red fox               7\n",
       "300           fennec fox               7\n",
       "301  california sea lion               7\n",
       "\n",
       "[302 rows x 2 columns]"
      ]
     },
     "execution_count": 50,
     "metadata": {},
     "output_type": "execute_result"
    }
   ],
   "source": [
    "mammals = pd.read_csv('mammal-neck-bones.csv')\n",
    "mammals #display the dataframe"
   ]
  },
  {
   "cell_type": "markdown",
   "metadata": {},
   "source": [
    "The rows shown above all have 7 neck vertebrae, but is this true for all 302 mammals in this dataset? Let's use a `query()` to find the data for giraffes, which we know have really long necks.\n",
    "\n",
    "Activity Goal:\n",
    "- Show rows where the species is 'giraffe'."
   ]
  },
  {
   "cell_type": "code",
   "execution_count": 51,
   "metadata": {},
   "outputs": [
    {
     "data": {
      "text/html": [
       "<div>\n",
       "<style scoped>\n",
       "    .dataframe tbody tr th:only-of-type {\n",
       "        vertical-align: middle;\n",
       "    }\n",
       "\n",
       "    .dataframe tbody tr th {\n",
       "        vertical-align: top;\n",
       "    }\n",
       "\n",
       "    .dataframe thead th {\n",
       "        text-align: right;\n",
       "    }\n",
       "</style>\n",
       "<table border=\"1\" class=\"dataframe\">\n",
       "  <thead>\n",
       "    <tr style=\"text-align: right;\">\n",
       "      <th></th>\n",
       "      <th>species</th>\n",
       "      <th>neck_vertebrae</th>\n",
       "    </tr>\n",
       "  </thead>\n",
       "  <tbody>\n",
       "    <tr>\n",
       "      <th>108</th>\n",
       "      <td>giraffe</td>\n",
       "      <td>7</td>\n",
       "    </tr>\n",
       "  </tbody>\n",
       "</table>\n",
       "</div>"
      ],
      "text/plain": [
       "     species  neck_vertebrae\n",
       "108  giraffe               7"
      ]
     },
     "execution_count": 51,
     "metadata": {},
     "output_type": "execute_result"
    }
   ],
   "source": [
    "mammals.query('species == \"giraffe\"')"
   ]
  },
  {
   "cell_type": "markdown",
   "metadata": {},
   "source": [
    "Despite their very long necks, giraffes also have 7 neck vertebrae!\n",
    "\n",
    "So, do all mammals have 7 vertebrae? We can use another `query()` to search for any rows where neck_vertebrae is not 7.\n",
    "\n",
    "Activity Goal:\n",
    "- Search for rows where the number of vertebrae does not equal 7."
   ]
  },
  {
   "cell_type": "code",
   "execution_count": 52,
   "metadata": {},
   "outputs": [
    {
     "data": {
      "text/html": [
       "<div>\n",
       "<style scoped>\n",
       "    .dataframe tbody tr th:only-of-type {\n",
       "        vertical-align: middle;\n",
       "    }\n",
       "\n",
       "    .dataframe tbody tr th {\n",
       "        vertical-align: top;\n",
       "    }\n",
       "\n",
       "    .dataframe thead th {\n",
       "        text-align: right;\n",
       "    }\n",
       "</style>\n",
       "<table border=\"1\" class=\"dataframe\">\n",
       "  <thead>\n",
       "    <tr style=\"text-align: right;\">\n",
       "      <th></th>\n",
       "      <th>species</th>\n",
       "      <th>neck_vertebrae</th>\n",
       "    </tr>\n",
       "  </thead>\n",
       "  <tbody>\n",
       "    <tr>\n",
       "      <th>27</th>\n",
       "      <td>pale-throated sloth</td>\n",
       "      <td>9</td>\n",
       "    </tr>\n",
       "    <tr>\n",
       "      <th>28</th>\n",
       "      <td>brown-throated sloth</td>\n",
       "      <td>9</td>\n",
       "    </tr>\n",
       "    <tr>\n",
       "      <th>60</th>\n",
       "      <td>hoffmann's two-toed sloth</td>\n",
       "      <td>6</td>\n",
       "    </tr>\n",
       "    <tr>\n",
       "      <th>291</th>\n",
       "      <td>west indian manatee</td>\n",
       "      <td>6</td>\n",
       "    </tr>\n",
       "  </tbody>\n",
       "</table>\n",
       "</div>"
      ],
      "text/plain": [
       "                       species  neck_vertebrae\n",
       "27         pale-throated sloth               9\n",
       "28        brown-throated sloth               9\n",
       "60   hoffmann's two-toed sloth               6\n",
       "291        west indian manatee               6"
      ]
     },
     "execution_count": 52,
     "metadata": {},
     "output_type": "execute_result"
    }
   ],
   "source": [
    "mammals.query('neck_vertebrae != 7')"
   ]
  },
  {
   "cell_type": "markdown",
   "metadata": {},
   "source": [
    "Aha! It looks like the only mammals without 7 vertebrae are manatees and sloths.\n",
    "\n",
    "### Bird neck bones\n",
    "\n",
    "While mammals mostly have 7 neck vertebrae, what about birds? Let's load in `'bird-neck-bones.csv'` to explore.\n",
    "\n",
    "Activity Goals:\n",
    "- Load the bird neck data.\n",
    "- Display it."
   ]
  },
  {
   "cell_type": "code",
   "execution_count": 53,
   "metadata": {},
   "outputs": [
    {
     "data": {
      "text/html": [
       "<div>\n",
       "<style scoped>\n",
       "    .dataframe tbody tr th:only-of-type {\n",
       "        vertical-align: middle;\n",
       "    }\n",
       "\n",
       "    .dataframe tbody tr th {\n",
       "        vertical-align: top;\n",
       "    }\n",
       "\n",
       "    .dataframe thead th {\n",
       "        text-align: right;\n",
       "    }\n",
       "</style>\n",
       "<table border=\"1\" class=\"dataframe\">\n",
       "  <thead>\n",
       "    <tr style=\"text-align: right;\">\n",
       "      <th></th>\n",
       "      <th>species</th>\n",
       "      <th>neck_vertebrae</th>\n",
       "    </tr>\n",
       "  </thead>\n",
       "  <tbody>\n",
       "    <tr>\n",
       "      <th>0</th>\n",
       "      <td>cinereous vulture</td>\n",
       "      <td>13</td>\n",
       "    </tr>\n",
       "    <tr>\n",
       "      <th>1</th>\n",
       "      <td>guineafowl</td>\n",
       "      <td>14</td>\n",
       "    </tr>\n",
       "    <tr>\n",
       "      <th>2</th>\n",
       "      <td>red-legged partridge</td>\n",
       "      <td>14</td>\n",
       "    </tr>\n",
       "    <tr>\n",
       "      <th>3</th>\n",
       "      <td>blue-cheeked parrot</td>\n",
       "      <td>12</td>\n",
       "    </tr>\n",
       "    <tr>\n",
       "      <th>4</th>\n",
       "      <td>northern pintail</td>\n",
       "      <td>15</td>\n",
       "    </tr>\n",
       "    <tr>\n",
       "      <th>...</th>\n",
       "      <td>...</td>\n",
       "      <td>...</td>\n",
       "    </tr>\n",
       "    <tr>\n",
       "      <th>76</th>\n",
       "      <td>barn owl</td>\n",
       "      <td>12</td>\n",
       "    </tr>\n",
       "    <tr>\n",
       "      <th>77</th>\n",
       "      <td>eurasian hoopoe</td>\n",
       "      <td>13</td>\n",
       "    </tr>\n",
       "    <tr>\n",
       "      <th>78</th>\n",
       "      <td>murre</td>\n",
       "      <td>13</td>\n",
       "    </tr>\n",
       "    <tr>\n",
       "      <th>79</th>\n",
       "      <td>new zealand rockwren</td>\n",
       "      <td>13</td>\n",
       "    </tr>\n",
       "    <tr>\n",
       "      <th>80</th>\n",
       "      <td>bushwren</td>\n",
       "      <td>13</td>\n",
       "    </tr>\n",
       "  </tbody>\n",
       "</table>\n",
       "<p>81 rows × 2 columns</p>\n",
       "</div>"
      ],
      "text/plain": [
       "                 species  neck_vertebrae\n",
       "0      cinereous vulture              13\n",
       "1             guineafowl              14\n",
       "2   red-legged partridge              14\n",
       "3    blue-cheeked parrot              12\n",
       "4       northern pintail              15\n",
       "..                   ...             ...\n",
       "76              barn owl              12\n",
       "77       eurasian hoopoe              13\n",
       "78                 murre              13\n",
       "79  new zealand rockwren              13\n",
       "80              bushwren              13\n",
       "\n",
       "[81 rows x 2 columns]"
      ]
     },
     "execution_count": 53,
     "metadata": {},
     "output_type": "execute_result"
    }
   ],
   "source": [
    "birds = pd.read_csv('bird-neck-bones.csv')\n",
    "birds #display the dataframe"
   ]
  },
  {
   "cell_type": "markdown",
   "metadata": {},
   "source": [
    "Birds seem to have many more vertebrae than mammals. Let's make a bar plot of the value counts to get a sense of the distribution.\n",
    "\n",
    "We will use the method `sort_index()` to sort the value counts by the number of neck vertebrae.\n",
    "\n",
    "Activity Goals:\n",
    "- Get the value counts for bird neck vertebrae.\n",
    "- Sort by the index.\n",
    "- Use pandas to make a bar plot."
   ]
  },
  {
   "cell_type": "code",
   "execution_count": 54,
   "metadata": {},
   "outputs": [
    {
     "data": {
      "text/plain": [
       "<Axes: xlabel='neck_vertebrae'>"
      ]
     },
     "execution_count": 54,
     "metadata": {},
     "output_type": "execute_result"
    },
    {
     "data": {
      "image/png": "[encoded data removed]",
      "text/plain": [
       "<Figure size 640x480 with 1 Axes>"
      ]
     },
     "metadata": {},
     "output_type": "display_data"
    }
   ],
   "source": [
    "bird_counts = birds['neck_vertebrae'].value_counts()\n",
    "bird_counts = bird_counts.sort_index()\n",
    "bird_counts.plot.bar()\n"
   ]
  },
  {
   "cell_type": "markdown",
   "metadata": {},
   "source": [
    "Birds have more diverse neck skeletons.\n",
    "\n",
    "The most common number of neck vertebrae is 13, but it looks like 23 is the maximum.\n",
    "\n",
    "Which bird has the maximum number of neck bones?\n",
    "\n",
    "Activity Goal:\n",
    "- Find the rows with the maximum number of neck vertebrae."
   ]
  },
  {
   "cell_type": "code",
   "execution_count": 55,
   "metadata": {},
   "outputs": [
    {
     "data": {
      "text/html": [
       "<div>\n",
       "<style scoped>\n",
       "    .dataframe tbody tr th:only-of-type {\n",
       "        vertical-align: middle;\n",
       "    }\n",
       "\n",
       "    .dataframe tbody tr th {\n",
       "        vertical-align: top;\n",
       "    }\n",
       "\n",
       "    .dataframe thead th {\n",
       "        text-align: right;\n",
       "    }\n",
       "</style>\n",
       "<table border=\"1\" class=\"dataframe\">\n",
       "  <thead>\n",
       "    <tr style=\"text-align: right;\">\n",
       "      <th></th>\n",
       "      <th>species</th>\n",
       "      <th>neck_vertebrae</th>\n",
       "    </tr>\n",
       "  </thead>\n",
       "  <tbody>\n",
       "    <tr>\n",
       "      <th>28</th>\n",
       "      <td>mute swan</td>\n",
       "      <td>23</td>\n",
       "    </tr>\n",
       "  </tbody>\n",
       "</table>\n",
       "</div>"
      ],
      "text/plain": [
       "      species  neck_vertebrae\n",
       "28  mute swan              23"
      ]
     },
     "execution_count": 55,
     "metadata": {},
     "output_type": "execute_result"
    }
   ],
   "source": [
    "birds.query('neck_vertebrae == neck_vertebrae.max()')"
   ]
  },
  {
   "cell_type": "markdown",
   "metadata": {},
   "source": [
    "The beautiful Mute Swan takes the prize!"
   ]
  },
  {
   "cell_type": "markdown",
   "metadata": {},
   "source": [
    "## Project extensions\n",
    "\n",
    "Below are a few ideas for extensions. \n",
    "\n",
    "1. Which bird has the fewest neck vertebra?\n",
    "\n",
    "\t- Find the row with the minimum number of neck vertebrae.\n",
    "\n",
    "2. Do humans have more bones in the arms or legs?\n",
    "\n",
    "\t- Filter the rows where the region is `arm`.\n",
    "\t- Repeat with `leg`.\n",
    "\n",
    "3. How many ribs to humans have?\n",
    "\n",
    "\t- Filter the rows where the name contains the word `rib`.\n",
    "\n",
    "\t\t- Hint: `name.str.contains(\"rib\")`.\n",
    "\n",
    "\t- To count the number of rows, use the dataframe function `df.shape`.\n",
    "\t\n",
    "\t- This will return the number of rows and columns in the dataframe."
   ]
  },
  {
   "cell_type": "code",
   "execution_count": 56,
   "metadata": {},
   "outputs": [],
   "source": [
    "# YOUR CODE HERE (add new cells as needed)\n"
   ]
  }
 ],
 "metadata": {
  "kernelspec": {
   "display_name": "Python 3",
   "language": "python",
   "name": "python3"
  },
  "language_info": {
   "codemirror_mode": {
    "name": "ipython",
    "version": 3
   },
   "file_extension": ".py",
   "mimetype": "text/x-python",
   "name": "python",
   "nbconvert_exporter": "python",
   "pygments_lexer": "ipython3",
   "version": "3.9.6"
  }
 },
 "nbformat": 4,
 "nbformat_minor": 2
}
