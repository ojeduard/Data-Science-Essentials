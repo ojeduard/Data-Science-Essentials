{
 "cells": [
  {
   "cell_type": "markdown",
   "metadata": {},
   "source": [
    "# Blue Whale Heart Rates\n",
    "\n",
    "By how much do blue whale heart rates change when they dive down to find food? \n",
    "\n",
    "The file `blue-whale-heart-rates.csv` contains heart rate data (measured in beats per minute) for blue whales. The data captures the dynamics of their heart rates as they dive over one hundred meters deep to forage for food. The heart rate measurements are taken approximately every 10 seconds during 8 separate dives.\n",
    "\n",
    "### Dive Phases\n",
    "The data records the heart rates corresponding to different dive states:\n",
    "1. Descent: The whale begins its dive, descending into the depths.\n",
    "2. Lunging: The whale opens its mouth and lunges upward, engulfing prey and water.\n",
    "3. Filtering: After lunging, the whale sinks slightly and filters out water to retain food.\n",
    "4. Ascent: The whale returns to the surface to breathe, marking the end of a dive.\n",
    "5.  Surface: The blue whale is now on the surface (upper 5 meters)\n",
    "\n",
    "The lunging and filtering process may occur multiple times on a single dive. The next dive cycle begins with another descent."
   ]
  },
  {
   "cell_type": "code",
   "execution_count": null,
   "metadata": {},
   "outputs": [],
   "source": [
    "# FOR GOOGLE COLAB ONLY.\n",
    "# Uncomment and run the code below. A dialog will appear to upload files.\n",
    "# Upload 'blue-whale-heart-rates.csv'.\n",
    "\n",
    "# from google.colab import files\n",
    "# uploaded = files.upload()"
   ]
  },
  {
   "cell_type": "code",
   "execution_count": 4,
   "metadata": {},
   "outputs": [
    {
     "data": {
      "text/html": [
       "<div>\n",
       "<style scoped>\n",
       "    .dataframe tbody tr th:only-of-type {\n",
       "        vertical-align: middle;\n",
       "    }\n",
       "\n",
       "    .dataframe tbody tr th {\n",
       "        vertical-align: top;\n",
       "    }\n",
       "\n",
       "    .dataframe thead th {\n",
       "        text-align: right;\n",
       "    }\n",
       "</style>\n",
       "<table border=\"1\" class=\"dataframe\">\n",
       "  <thead>\n",
       "    <tr style=\"text-align: right;\">\n",
       "      <th></th>\n",
       "      <th>timestamp</th>\n",
       "      <th>heart_rate</th>\n",
       "      <th>dive_id</th>\n",
       "      <th>dive_phase</th>\n",
       "    </tr>\n",
       "  </thead>\n",
       "  <tbody>\n",
       "    <tr>\n",
       "      <th>0</th>\n",
       "      <td>8/27/18 17:10:10</td>\n",
       "      <td>NaN</td>\n",
       "      <td>2</td>\n",
       "      <td>descent</td>\n",
       "    </tr>\n",
       "    <tr>\n",
       "      <th>1</th>\n",
       "      <td>8/27/18 17:10:22</td>\n",
       "      <td>5.24</td>\n",
       "      <td>2</td>\n",
       "      <td>descent</td>\n",
       "    </tr>\n",
       "    <tr>\n",
       "      <th>2</th>\n",
       "      <td>8/27/18 17:10:31</td>\n",
       "      <td>6.55</td>\n",
       "      <td>2</td>\n",
       "      <td>descent</td>\n",
       "    </tr>\n",
       "    <tr>\n",
       "      <th>3</th>\n",
       "      <td>8/27/18 17:10:40</td>\n",
       "      <td>NaN</td>\n",
       "      <td>2</td>\n",
       "      <td>descent</td>\n",
       "    </tr>\n",
       "    <tr>\n",
       "      <th>4</th>\n",
       "      <td>8/27/18 17:10:48</td>\n",
       "      <td>NaN</td>\n",
       "      <td>2</td>\n",
       "      <td>descent</td>\n",
       "    </tr>\n",
       "  </tbody>\n",
       "</table>\n",
       "</div>"
      ],
      "text/plain": [
       "          timestamp  heart_rate  dive_id dive_phase\n",
       "0  8/27/18 17:10:10         NaN        2    descent\n",
       "1  8/27/18 17:10:22        5.24        2    descent\n",
       "2  8/27/18 17:10:31        6.55        2    descent\n",
       "3  8/27/18 17:10:40         NaN        2    descent\n",
       "4  8/27/18 17:10:48         NaN        2    descent"
      ]
     },
     "execution_count": 4,
     "metadata": {},
     "output_type": "execute_result"
    }
   ],
   "source": [
    "import pandas as pd\n",
    "import matplotlib.pyplot as plt\n",
    "\n",
    "df = pd.read_csv('blue-whale-heart-rates.csv')\n",
    "df.head()\n"
   ]
  },
  {
   "cell_type": "markdown",
   "metadata": {},
   "source": [
    "### Project Ideas\n",
    "\n",
    "#### Warmup\n",
    "Calculate the average heart rates for each dive phase.\n",
    "\n",
    "#### Challenge\n",
    "Investigate the relationship between dive duration and the maximum heart rate at the surface following the dive.\n",
    "\n",
    "1. Data Preparation:\n",
    "\t- Convert the `timestamp` column to datetime format.\n",
    "\n",
    "2. Calculate Dive Duration:\n",
    "\t- For each `dive_id`, identify the earliest timestamp for the descent phase.\n",
    "\t- For each `dive_id`, find the latest timestamp for the ascent phase.\n",
    "\t- Compute the `dive_duration` by subtracting the start of the descent from the end of the ascent, then convert this duration to minutes (`dt.total_seconds() / 60`).\n",
    "\t- Store the results in a new dataframe with 2 columns: `dive_id` and `dive_duration`.\n",
    "\n",
    "3. Determine Maximum Surface Heart Rate:\n",
    "\t- Identify the maximum heart rate recorded at the surface after each dive.\n",
    "\t- Store the results in a new dataframe with 2 columns: `dive_id` and `max_surface_heart_rate`\n",
    "\n",
    "4. Merge DataFrames:\n",
    "\t- Merge the dive duration and max surface heart rate dataframes.\n",
    "\t\n",
    "5.\tVisualize the Data:\n",
    "\t- Generate a scatter plot with dive duration on the x-axis and maximum surface heart rate on the y-axis to illustrate their relationship."
   ]
  },
  {
   "cell_type": "code",
   "execution_count": 5,
   "metadata": {},
   "outputs": [],
   "source": [
    "# YOUR CODE HERE (add additional cells as needed)"
   ]
  }
 ],
 "metadata": {
  "kernelspec": {
   "display_name": "Python 3",
   "language": "python",
   "name": "python3"
  },
  "language_info": {
   "codemirror_mode": {
    "name": "ipython",
    "version": 3
   },
   "file_extension": ".py",
   "mimetype": "text/x-python",
   "name": "python",
   "nbconvert_exporter": "python",
   "pygments_lexer": "ipython3",
   "version": "3.9.6"
  }
 },
 "nbformat": 4,
 "nbformat_minor": 2
}
